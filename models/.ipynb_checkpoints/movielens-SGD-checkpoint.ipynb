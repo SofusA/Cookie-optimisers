{
 "cells": [
  {
   "cell_type": "markdown",
   "metadata": {},
   "source": [
    "# Collaborative Filtering\n",
    "With your best friends; Cookie Optimizers :D "
   ]
  },
  {
   "cell_type": "markdown",
   "metadata": {},
   "source": [
    "# MovieLens\n",
    "## Imports"
   ]
  },
  {
   "cell_type": "code",
   "execution_count": 1,
   "metadata": {},
   "outputs": [],
   "source": [
    "import pandas as pd\n",
    "import numpy as np\n",
    "import torch\n",
    "import torch.nn.functional as F\n",
    "import torch.optim as optim\n",
    "from torch.autograd import Variable\n",
    "from torch import nn\n",
    "from torch.utils.data import Dataset, DataLoader, random_split"
   ]
  },
  {
   "cell_type": "code",
   "execution_count": 2,
   "metadata": {},
   "outputs": [],
   "source": [
    "device = torch.device(\"cuda\" if torch.cuda.is_available() else \"cpu\")"
   ]
  },
  {
   "cell_type": "code",
   "execution_count": 3,
   "metadata": {},
   "outputs": [],
   "source": [
    "%matplotlib inline\n",
    "import matplotlib\n",
    "import matplotlib.pyplot as plt"
   ]
  },
  {
   "cell_type": "code",
   "execution_count": 4,
   "metadata": {},
   "outputs": [],
   "source": [
    "import warnings\n",
    "warnings.filterwarnings('ignore')"
   ]
  },
  {
   "cell_type": "markdown",
   "metadata": {},
   "source": [
    "## Data Loaders"
   ]
  },
  {
   "cell_type": "code",
   "execution_count": 5,
   "metadata": {},
   "outputs": [],
   "source": [
    "def condence(nparr):\n",
    "    uniq = np.unique(nparr)\n",
    "    name2idx = {o:i for i,o in enumerate(uniq)}\n",
    "    return np.array([name2idx[o] for o in nparr])\n",
    "\n",
    "class MovieLensDataset(Dataset):\n",
    "    def __init__(self, filename):\n",
    "        self.rawdata = pd.read_csv(filename)\n",
    "        self.rawdata[\"userId\"] = condence(self.rawdata[\"userId\"].values)\n",
    "        self.rawdata[\"movieId\"] = condence(self.rawdata[\"movieId\"].values)\n",
    "\n",
    "    def __len__(self):\n",
    "        return len(self.rawdata)\n",
    "\n",
    "    def __getitem__(self, idx):\n",
    "        idx = idx.item()\n",
    "        users = self.rawdata.iloc[idx, 0]\n",
    "        items = self.rawdata.iloc[idx, 1]\n",
    "        ratings = self.rawdata.iloc[idx, 2]\n",
    "        \n",
    "        return (users, items, ratings)\n",
    "    \n",
    "    def items (self):\n",
    "        n_users = self.rawdata[\"userId\"].nunique()\n",
    "        n_items = self.rawdata[\"movieId\"].nunique()\n",
    "        \n",
    "        return [n_users, n_items]\n",
    "\n",
    "def getLoaders(dataset, batchsize, shuffle, sizes):\n",
    "    train_size = int(sizes[0] * len(dataset))\n",
    "    val_size = int(sizes[1] * len(dataset))\n",
    "    test_size = len(dataset) - train_size - val_size\n",
    "    train_data, val_data, test_data = random_split(dataset, [train_size, val_size, test_size])\n",
    "    \n",
    "    return [DataLoader(data, batch_size = batchsize, shuffle = shuffle) for data in [train_data, val_data, test_data]]"
   ]
  },
  {
   "cell_type": "markdown",
   "metadata": {},
   "source": [
    "## Model"
   ]
  },
  {
   "cell_type": "code",
   "execution_count": 6,
   "metadata": {},
   "outputs": [],
   "source": [
    "# Model\n",
    "class CFNN(nn.Module):\n",
    "    def __init__(self, num_users, num_items, emb_size, n_hidden_1, n_hidden_2, p_dropout):\n",
    "        super(CFNN, self).__init__()\n",
    "        self.user_emb = nn.Embedding(num_users, emb_size)\n",
    "        self.item_emb = nn.Embedding(num_items, emb_size)\n",
    "        self.lin1 = nn.Linear(emb_size*2, n_hidden_1)\n",
    "        self.lin2 = nn.Linear(n_hidden_1, n_hidden_2)\n",
    "        self.linOut = nn.Linear(n_hidden_2, 1)\n",
    "        self.drop0 = nn.Dropout(p_dropout)\n",
    "        self.drop1 = nn.Dropout(p_dropout)\n",
    "        self.drop2 = nn.Dropout(p_dropout)\n",
    "        \n",
    "    def forward(self, u, v):\n",
    "        U = self.user_emb(u)\n",
    "        V = self.item_emb(v)\n",
    "        x = F.relu(torch.cat([U, V], dim=1))\n",
    "        x = self.drop0(x)\n",
    "        x = F.relu(self.lin1(x))\n",
    "        x = self.drop1(x)\n",
    "        x = F.relu(self.lin2(x))\n",
    "        x = self.drop2(x)\n",
    "        x = self.linOut(x)\n",
    "        return x"
   ]
  },
  {
   "cell_type": "markdown",
   "metadata": {},
   "source": [
    "## Traning Loop"
   ]
  },
  {
   "cell_type": "code",
   "execution_count": 7,
   "metadata": {},
   "outputs": [],
   "source": [
    "def train(model, train_loader, optimizer, criterion):\n",
    "    model.train()\n",
    "    train_loss = 0\n",
    "    for (users, items, ratings) in train_loader:\n",
    "        users = users.long().to(device)\n",
    "        items = items.long().to(device)\n",
    "        ratings = ratings.float().to(device)\n",
    "        ratings = ratings.unsqueeze(1)\n",
    "        \n",
    "        optimizer.zero_grad()\n",
    "        output = model(users, items)\n",
    "        loss = criterion(output, ratings)\n",
    "        loss.backward()\n",
    "        optimizer.step()\n",
    "        \n",
    "        train_loss += loss.item()\n",
    "        \n",
    "    return train_loss / len(train_loader)\n",
    "    \n",
    "\n",
    "def validate(model, val_loader, criterion):\n",
    "    model.eval()\n",
    "    val_loss = 0\n",
    "    with torch.no_grad():\n",
    "        for (users, items, ratings) in val_loader:\n",
    "            users = users.long().to(device)\n",
    "            items = items.long().to(device)\n",
    "            ratings = ratings.float().to(device)\n",
    "            ratings = ratings.unsqueeze(1)\n",
    "            \n",
    "            output = model(users, items)\n",
    "            loss = criterion(output, ratings)\n",
    "\n",
    "            val_loss += loss.item()\n",
    "\n",
    "    return val_loss / len(val_loader)\n",
    "\n",
    "def train_model(train_loader, val_loader, max_epochs, batchsize, model, criterion, optimizer, modelpath=None):\n",
    "    # check path for early stopping\n",
    "    if modelpath != None:\n",
    "        patience_count = 0\n",
    "        torch.save(model, modelpath)\n",
    "    \n",
    "    # Train model\n",
    "    best_loss = (-1, -1, 1e15)\n",
    "    train_losses = []\n",
    "    val_losses = []\n",
    "    \n",
    "    for epoch in range(1, max_epochs + 1):\n",
    "        # train and validate\n",
    "        train_loss = train(model, train_loader, optimizer, criterion)\n",
    "        val_loss = validate(model, val_loader, criterion)\n",
    "        \n",
    "        val_losses += [val_loss]\n",
    "        train_losses += [train_loss]\n",
    "        print(f'Epoch {epoch:3d} | Train average loss: {train_loss:3.5f} | Validation average loss: {val_loss:3.5f}')\n",
    "        \n",
    "        # Early stopping\n",
    "        if val_loss < best_loss[2]:\n",
    "            best_loss = (epoch, train_loss, val_loss)\n",
    "            \n",
    "            if modelpath != None:\n",
    "                patience_count = 0\n",
    "                torch.save(model, modelpath)\n",
    "        if modelpath != None:\n",
    "            if patience_count == 10:\n",
    "                model = torch.load(modelpath)\n",
    "                break\n",
    "            else:\n",
    "                patience_count += 1\n",
    "\n",
    "    # Plot loss\n",
    "    plt.plot(range(1,epoch+1), val_losses, color='b')\n",
    "    plt.plot(range(1,epoch+1), train_losses, color='g')\n",
    "    plt.axvline(x=best_loss[0], color='r')\n",
    "    plt.show()\n",
    "    print(f\"Best validation loss at epoch {best_loss[0]} | Train loss: {best_loss[1]:.5} | Validation loss {best_loss[2]:.5}\")\n",
    "    \n",
    "    # return loaded model if early stop otherwise, finished model.\n",
    "    return model"
   ]
  },
  {
   "cell_type": "markdown",
   "metadata": {},
   "source": [
    "## Parameters"
   ]
  },
  {
   "cell_type": "code",
   "execution_count": 8,
   "metadata": {},
   "outputs": [],
   "source": [
    "# Data params\n",
    "datasetpath = '../datasets/movielens-large/ratings.csv'\n",
    "#datasetpath = '../datasets/movielens-small/ratings.csv'\n",
    "shuffle_data = True\n",
    "size_splits = [0.7, 0.2, 0.1]\n",
    "dataset = MovieLensDataset(datasetpath)"
   ]
  },
  {
   "cell_type": "code",
   "execution_count": 9,
   "metadata": {},
   "outputs": [],
   "source": [
    "# Model params\n",
    "n_users, n_items = dataset.items()\n",
    "emb_size=100\n",
    "n_hidden_1=500\n",
    "n_hidden_2=500\n",
    "p_dropout = 0.3\n",
    "model = CFNN(n_users, n_items, emb_size, n_hidden_1, n_hidden_2, p_dropout).to(device)"
   ]
  },
  {
   "cell_type": "code",
   "execution_count": 10,
   "metadata": {},
   "outputs": [],
   "source": [
    "# Training params\n",
    "modelpath = '../torch_models/movielens/best.pth'\n",
    "max_epochs = 100\n",
    "batch_size = 50\n",
    "learning_rate = 0.1\n",
    "weight_decay = 1e-6\n",
    "criterion = nn.MSELoss()\n",
    "optimizer = optim.SGD(model.parameters(), lr=learning_rate, weight_decay=weight_decay)"
   ]
  },
  {
   "cell_type": "code",
   "execution_count": 11,
   "metadata": {
    "scrolled": true
   },
   "outputs": [
    {
     "name": "stdout",
     "output_type": "stream",
     "text": [
      "CFNN(\n",
      "  (user_emb): Embedding(10386, 100)\n",
      "  (item_emb): Embedding(22085, 100)\n",
      "  (lin1): Linear(in_features=200, out_features=500, bias=True)\n",
      "  (lin2): Linear(in_features=500, out_features=500, bias=True)\n",
      "  (linOut): Linear(in_features=500, out_features=1, bias=True)\n",
      "  (drop0): Dropout(p=0.3)\n",
      "  (drop1): Dropout(p=0.3)\n",
      "  (drop2): Dropout(p=0.3)\n",
      ") \n",
      "\n",
      "Amount of batches in training set:   14474 | Total samples: 723700\n",
      "Amount of batches in validation set:  4136 | Total samples: 206800\n",
      "Amount of batches in testing set:     2068 | Total samples: 103400\n"
     ]
    }
   ],
   "source": [
    "# Data loaders\n",
    "train_loader, val_loader, test_loader = getLoaders(dataset, batch_size, shuffle_data, size_splits)\n",
    "\n",
    "# Print info on model and loaders\n",
    "ls = [len(l) for l in [train_loader, val_loader, test_loader]]\n",
    "mbls = max([len(str(l)) for l in ls])\n",
    "mls = max([len(str(l*batch_size)) for l in ls])\n",
    "\n",
    "print(model, \"\\n\")\n",
    "print(f\"Amount of batches in training set:   {ls[0]:{mbls}d} | Total samples: {ls[0]*batch_size:{mls}d}\")\n",
    "print(f\"Amount of batches in validation set: {ls[1]:{mbls}d} | Total samples: {ls[1]*batch_size:{mls}d}\")\n",
    "print(f\"Amount of batches in testing set:    {ls[2]:{mbls}d} | Total samples: {ls[2]*batch_size:{mls}d}\")"
   ]
  },
  {
   "cell_type": "markdown",
   "metadata": {},
   "source": [
    "## Train Model"
   ]
  },
  {
   "cell_type": "code",
   "execution_count": 12,
   "metadata": {},
   "outputs": [
    {
     "name": "stdout",
     "output_type": "stream",
     "text": [
      "Epoch   1 | Train average loss: 1.13203 | Validation average loss: 1.05174\n",
      "Epoch   2 | Train average loss: 1.06398 | Validation average loss: 1.02659\n",
      "Epoch   3 | Train average loss: 1.04395 | Validation average loss: 1.00859\n",
      "Epoch   4 | Train average loss: 1.03036 | Validation average loss: 0.99692\n",
      "Epoch   5 | Train average loss: 1.02066 | Validation average loss: 0.99995\n",
      "Epoch   6 | Train average loss: 1.01382 | Validation average loss: 0.97782\n",
      "Epoch   7 | Train average loss: 1.00544 | Validation average loss: 0.96934\n",
      "Epoch   8 | Train average loss: 0.99928 | Validation average loss: 0.97306\n",
      "Epoch   9 | Train average loss: 0.99356 | Validation average loss: 0.96171\n",
      "Epoch  10 | Train average loss: 0.99032 | Validation average loss: 0.96082\n",
      "Epoch  11 | Train average loss: 0.98376 | Validation average loss: 0.97019\n",
      "Epoch  12 | Train average loss: 0.97910 | Validation average loss: 0.98483\n",
      "Epoch  13 | Train average loss: 0.97580 | Validation average loss: 0.95992\n",
      "Epoch  14 | Train average loss: 0.97228 | Validation average loss: 0.94148\n",
      "Epoch  15 | Train average loss: 0.96818 | Validation average loss: 0.97250\n",
      "Epoch  16 | Train average loss: 0.96619 | Validation average loss: 0.93908\n",
      "Epoch  17 | Train average loss: 0.96216 | Validation average loss: 0.94871\n",
      "Epoch  18 | Train average loss: 0.95962 | Validation average loss: 0.93543\n",
      "Epoch  19 | Train average loss: 0.95688 | Validation average loss: 0.92687\n",
      "Epoch  20 | Train average loss: 0.95353 | Validation average loss: 0.95587\n",
      "Epoch  21 | Train average loss: 0.95117 | Validation average loss: 0.93358\n",
      "Epoch  22 | Train average loss: 0.94989 | Validation average loss: 0.91496\n",
      "Epoch  23 | Train average loss: 0.94560 | Validation average loss: 0.91139\n",
      "Epoch  24 | Train average loss: 0.94620 | Validation average loss: 0.90862\n",
      "Epoch  25 | Train average loss: 0.94240 | Validation average loss: 0.92885\n",
      "Epoch  26 | Train average loss: 0.93922 | Validation average loss: 0.95982\n",
      "Epoch  27 | Train average loss: 0.93738 | Validation average loss: 0.90372\n",
      "Epoch  28 | Train average loss: 0.93541 | Validation average loss: 0.91567\n",
      "Epoch  29 | Train average loss: 0.93393 | Validation average loss: 0.93767\n",
      "Epoch  30 | Train average loss: 0.93019 | Validation average loss: 0.90963\n",
      "Epoch  31 | Train average loss: 0.92989 | Validation average loss: 0.91341\n",
      "Epoch  32 | Train average loss: 0.92691 | Validation average loss: 0.93334\n",
      "Epoch  33 | Train average loss: 0.92507 | Validation average loss: 0.90938\n",
      "Epoch  34 | Train average loss: 0.92261 | Validation average loss: 0.90809\n",
      "Epoch  35 | Train average loss: 0.92170 | Validation average loss: 0.92465\n",
      "Epoch  36 | Train average loss: 0.91953 | Validation average loss: 0.92362\n",
      "Epoch  37 | Train average loss: 0.91859 | Validation average loss: 0.90359\n",
      "Epoch  38 | Train average loss: 0.91599 | Validation average loss: 0.89133\n",
      "Epoch  39 | Train average loss: 0.91419 | Validation average loss: 0.90284\n",
      "Epoch  40 | Train average loss: 0.91410 | Validation average loss: 0.91177\n",
      "Epoch  41 | Train average loss: 0.91218 | Validation average loss: 0.90583\n",
      "Epoch  42 | Train average loss: 0.90920 | Validation average loss: 0.90652\n",
      "Epoch  43 | Train average loss: 0.90776 | Validation average loss: 0.90146\n",
      "Epoch  44 | Train average loss: 0.90637 | Validation average loss: 0.89603\n",
      "Epoch  45 | Train average loss: 0.90439 | Validation average loss: 0.89863\n",
      "Epoch  46 | Train average loss: 0.90350 | Validation average loss: 0.90865\n",
      "Epoch  47 | Train average loss: 0.90317 | Validation average loss: 0.91069\n",
      "Epoch  48 | Train average loss: 0.90096 | Validation average loss: 0.88351\n",
      "Epoch  49 | Train average loss: 0.89982 | Validation average loss: 0.87980\n",
      "Epoch  50 | Train average loss: 0.89765 | Validation average loss: 0.89967\n",
      "Epoch  51 | Train average loss: 0.89734 | Validation average loss: 0.90317\n",
      "Epoch  52 | Train average loss: 0.89546 | Validation average loss: 0.88876\n",
      "Epoch  53 | Train average loss: 0.89587 | Validation average loss: 0.90644\n",
      "Epoch  54 | Train average loss: 0.89243 | Validation average loss: 0.91372\n",
      "Epoch  55 | Train average loss: 0.89127 | Validation average loss: 0.88786\n",
      "Epoch  56 | Train average loss: 0.88947 | Validation average loss: 0.90078\n",
      "Epoch  57 | Train average loss: 0.88979 | Validation average loss: 0.88293\n",
      "Epoch  58 | Train average loss: 0.88782 | Validation average loss: 0.89334\n",
      "Epoch  59 | Train average loss: 0.88669 | Validation average loss: 0.90990\n"
     ]
    },
    {
     "data": {
      "image/png": "[encoded data removed]",
      "text/plain": [
       "<Figure size 432x288 with 1 Axes>"
      ]
     },
     "metadata": {
      "needs_background": "light"
     },
     "output_type": "display_data"
    },
    {
     "name": "stdout",
     "output_type": "stream",
     "text": [
      "Best validation loss at epoch 49 | Train loss: 0.89982 | Validation loss 0.8798\n"
     ]
    }
   ],
   "source": [
    "model_trained = train_model(train_loader,\n",
    "                            val_loader, \n",
    "                            max_epochs, \n",
    "                            batch_size, \n",
    "                            model, \n",
    "                            criterion, \n",
    "                            optimizer, \n",
    "                            modelpath)"
   ]
  },
  {
   "cell_type": "markdown",
   "metadata": {},
   "source": [
    "## Test Model"
   ]
  },
  {
   "cell_type": "code",
   "execution_count": 13,
   "metadata": {},
   "outputs": [],
   "source": [
    "model_trained.eval()\n",
    "test_loss = 0\n",
    "with torch.no_grad():\n",
    "    for (users, items, ratings) in test_loader:\n",
    "        users = users.long().to(device)\n",
    "        items = items.long().to(device)\n",
    "        ratings = ratings.float().to(device)\n",
    "        ratings = ratings.unsqueeze(1)\n",
    "        output = model_trained(users, items)\n",
    "\n",
    "        test_loss += criterion(output, ratings).item() # sum up batch loss\n",
    "\n",
    "test_loss /= len(test_loader)\n",
    "# UNCOMMENT ONLY WHEN MODEL IS COMPLETELY FINISHED\n",
    "# print(f'Final test average loss: {test_loss}')"
   ]
  },
  {
   "cell_type": "markdown",
   "metadata": {},
   "source": [
    "0.01"
   ]
  },
  {
   "cell_type": "code",
   "execution_count": 14,
   "metadata": {},
   "outputs": [],
   "source": [
    "# Data params\n",
    "datasetpath = '../datasets/movielens-large/ratings.csv'\n",
    "#datasetpath = '../datasets/movielens-small/ratings.csv'\n",
    "shuffle_data = True\n",
    "size_splits = [0.7, 0.2, 0.1]\n",
    "dataset = MovieLensDataset(datasetpath)"
   ]
  },
  {
   "cell_type": "code",
   "execution_count": 15,
   "metadata": {},
   "outputs": [],
   "source": [
    "# Model params\n",
    "n_users, n_items = dataset.items()\n",
    "emb_size=100\n",
    "n_hidden_1=500\n",
    "n_hidden_2=500\n",
    "p_dropout = 0.3\n",
    "model = CFNN(n_users, n_items, emb_size, n_hidden_1, n_hidden_2, p_dropout).to(device)"
   ]
  },
  {
   "cell_type": "code",
   "execution_count": 16,
   "metadata": {},
   "outputs": [],
   "source": [
    "# Training params\n",
    "modelpath = '../torch_models/movielens/best.pth'\n",
    "max_epochs = 1000\n",
    "batch_size = 50\n",
    "learning_rate = 0.01\n",
    "weight_decay = 1e-6\n",
    "criterion = nn.MSELoss()\n",
    "optimizer = optim.SGD(model.parameters(), lr=learning_rate, weight_decay=weight_decay)"
   ]
  },
  {
   "cell_type": "code",
   "execution_count": 17,
   "metadata": {
    "scrolled": true
   },
   "outputs": [
    {
     "name": "stdout",
     "output_type": "stream",
     "text": [
      "CFNN(\n",
      "  (user_emb): Embedding(10386, 100)\n",
      "  (item_emb): Embedding(22085, 100)\n",
      "  (lin1): Linear(in_features=200, out_features=500, bias=True)\n",
      "  (lin2): Linear(in_features=500, out_features=500, bias=True)\n",
      "  (linOut): Linear(in_features=500, out_features=1, bias=True)\n",
      "  (drop0): Dropout(p=0.3)\n",
      "  (drop1): Dropout(p=0.3)\n",
      "  (drop2): Dropout(p=0.3)\n",
      ") \n",
      "\n",
      "Amount of batches in training set:   14474 | Total samples: 723700\n",
      "Amount of batches in validation set:  4136 | Total samples: 206800\n",
      "Amount of batches in testing set:     2068 | Total samples: 103400\n"
     ]
    }
   ],
   "source": [
    "# Data loaders\n",
    "train_loader, val_loader, test_loader = getLoaders(dataset, batch_size, shuffle_data, size_splits)\n",
    "\n",
    "# Print info on model and loaders\n",
    "ls = [len(l) for l in [train_loader, val_loader, test_loader]]\n",
    "mbls = max([len(str(l)) for l in ls])\n",
    "mls = max([len(str(l*batch_size)) for l in ls])\n",
    "\n",
    "print(model, \"\\n\")\n",
    "print(f\"Amount of batches in training set:   {ls[0]:{mbls}d} | Total samples: {ls[0]*batch_size:{mls}d}\")\n",
    "print(f\"Amount of batches in validation set: {ls[1]:{mbls}d} | Total samples: {ls[1]*batch_size:{mls}d}\")\n",
    "print(f\"Amount of batches in testing set:    {ls[2]:{mbls}d} | Total samples: {ls[2]*batch_size:{mls}d}\")"
   ]
  },
  {
   "cell_type": "markdown",
   "metadata": {},
   "source": [
    "## Train Model"
   ]
  },
  {
   "cell_type": "code",
   "execution_count": 18,
   "metadata": {},
   "outputs": [
    {
     "name": "stdout",
     "output_type": "stream",
     "text": [
      "Epoch   1 | Train average loss: 1.14794 | Validation average loss: 1.14320\n",
      "Epoch   2 | Train average loss: 1.08140 | Validation average loss: 1.07828\n",
      "Epoch   3 | Train average loss: 1.05038 | Validation average loss: 1.01981\n",
      "Epoch   4 | Train average loss: 1.03212 | Validation average loss: 1.01319\n",
      "Epoch   5 | Train average loss: 1.01806 | Validation average loss: 0.99059\n",
      "Epoch   6 | Train average loss: 1.00855 | Validation average loss: 1.00339\n",
      "Epoch   7 | Train average loss: 1.00117 | Validation average loss: 0.97286\n",
      "Epoch   8 | Train average loss: 0.99343 | Validation average loss: 0.97450\n",
      "Epoch   9 | Train average loss: 0.98929 | Validation average loss: 0.96345\n",
      "Epoch  10 | Train average loss: 0.98402 | Validation average loss: 0.97443\n",
      "Epoch  11 | Train average loss: 0.97997 | Validation average loss: 0.94990\n",
      "Epoch  12 | Train average loss: 0.97608 | Validation average loss: 0.96359\n",
      "Epoch  13 | Train average loss: 0.97155 | Validation average loss: 0.96596\n",
      "Epoch  14 | Train average loss: 0.96916 | Validation average loss: 0.95146\n",
      "Epoch  15 | Train average loss: 0.96583 | Validation average loss: 0.94555\n",
      "Epoch  16 | Train average loss: 0.96275 | Validation average loss: 0.95842\n",
      "Epoch  17 | Train average loss: 0.96098 | Validation average loss: 0.96225\n",
      "Epoch  18 | Train average loss: 0.95779 | Validation average loss: 0.93088\n",
      "Epoch  19 | Train average loss: 0.95522 | Validation average loss: 0.93120\n",
      "Epoch  20 | Train average loss: 0.95249 | Validation average loss: 0.94581\n",
      "Epoch  21 | Train average loss: 0.95085 | Validation average loss: 0.94144\n",
      "Epoch  22 | Train average loss: 0.94858 | Validation average loss: 0.93643\n",
      "Epoch  23 | Train average loss: 0.94685 | Validation average loss: 0.93475\n",
      "Epoch  24 | Train average loss: 0.94544 | Validation average loss: 0.94776\n",
      "Epoch  25 | Train average loss: 0.94380 | Validation average loss: 0.94273\n",
      "Epoch  26 | Train average loss: 0.94098 | Validation average loss: 0.94780\n",
      "Epoch  27 | Train average loss: 0.94099 | Validation average loss: 0.93135\n",
      "Epoch  28 | Train average loss: 0.93925 | Validation average loss: 0.93104\n"
     ]
    },
    {
     "data": {
      "image/png": "[encoded data removed]",
      "text/plain": [
       "<Figure size 432x288 with 1 Axes>"
      ]
     },
     "metadata": {
      "needs_background": "light"
     },
     "output_type": "display_data"
    },
    {
     "name": "stdout",
     "output_type": "stream",
     "text": [
      "Best validation loss at epoch 18 | Train loss: 0.95779 | Validation loss 0.93088\n"
     ]
    }
   ],
   "source": [
    "model_trained = train_model(train_loader,\n",
    "                            val_loader, \n",
    "                            max_epochs, \n",
    "                            batch_size, \n",
    "                            model, \n",
    "                            criterion, \n",
    "                            optimizer, \n",
    "                            modelpath)"
   ]
  },
  {
   "cell_type": "markdown",
   "metadata": {},
   "source": [
    "0.001"
   ]
  },
  {
   "cell_type": "code",
   "execution_count": 19,
   "metadata": {},
   "outputs": [],
   "source": [
    "# Data params\n",
    "datasetpath = '../datasets/movielens-large/ratings.csv'\n",
    "#datasetpath = '../datasets/movielens-small/ratings.csv'\n",
    "shuffle_data = True\n",
    "size_splits = [0.7, 0.2, 0.1]\n",
    "dataset = MovieLensDataset(datasetpath)"
   ]
  },
  {
   "cell_type": "code",
   "execution_count": 20,
   "metadata": {},
   "outputs": [],
   "source": [
    "# Model params\n",
    "n_users, n_items = dataset.items()\n",
    "emb_size=100\n",
    "n_hidden_1=500\n",
    "n_hidden_2=500\n",
    "p_dropout = 0.3\n",
    "model = CFNN(n_users, n_items, emb_size, n_hidden_1, n_hidden_2, p_dropout).to(device)"
   ]
  },
  {
   "cell_type": "code",
   "execution_count": 21,
   "metadata": {},
   "outputs": [],
   "source": [
    "# Training params\n",
    "modelpath = '../torch_models/movielens/best.pth'\n",
    "max_epochs = 100\n",
    "batch_size = 50\n",
    "learning_rate = 0.001\n",
    "weight_decay = 1e-6\n",
    "criterion = nn.MSELoss()\n",
    "optimizer = optim.SGD(model.parameters(), lr=learning_rate, weight_decay=weight_decay)"
   ]
  },
  {
   "cell_type": "code",
   "execution_count": 22,
   "metadata": {
    "scrolled": true
   },
   "outputs": [
    {
     "name": "stdout",
     "output_type": "stream",
     "text": [
      "CFNN(\n",
      "  (user_emb): Embedding(10386, 100)\n",
      "  (item_emb): Embedding(22085, 100)\n",
      "  (lin1): Linear(in_features=200, out_features=500, bias=True)\n",
      "  (lin2): Linear(in_features=500, out_features=500, bias=True)\n",
      "  (linOut): Linear(in_features=500, out_features=1, bias=True)\n",
      "  (drop0): Dropout(p=0.3)\n",
      "  (drop1): Dropout(p=0.3)\n",
      "  (drop2): Dropout(p=0.3)\n",
      ") \n",
      "\n",
      "Amount of batches in training set:   14474 | Total samples: 723700\n",
      "Amount of batches in validation set:  4136 | Total samples: 206800\n",
      "Amount of batches in testing set:     2068 | Total samples: 103400\n"
     ]
    }
   ],
   "source": [
    "# Data loaders\n",
    "train_loader, val_loader, test_loader = getLoaders(dataset, batch_size, shuffle_data, size_splits)\n",
    "\n",
    "# Print info on model and loaders\n",
    "ls = [len(l) for l in [train_loader, val_loader, test_loader]]\n",
    "mbls = max([len(str(l)) for l in ls])\n",
    "mls = max([len(str(l*batch_size)) for l in ls])\n",
    "\n",
    "print(model, \"\\n\")\n",
    "print(f\"Amount of batches in training set:   {ls[0]:{mbls}d} | Total samples: {ls[0]*batch_size:{mls}d}\")\n",
    "print(f\"Amount of batches in validation set: {ls[1]:{mbls}d} | Total samples: {ls[1]*batch_size:{mls}d}\")\n",
    "print(f\"Amount of batches in testing set:    {ls[2]:{mbls}d} | Total samples: {ls[2]*batch_size:{mls}d}\")"
   ]
  },
  {
   "cell_type": "markdown",
   "metadata": {},
   "source": [
    "## Train Model"
   ]
  },
  {
   "cell_type": "code",
   "execution_count": 23,
   "metadata": {},
   "outputs": [
    {
     "name": "stdout",
     "output_type": "stream",
     "text": [
      "Epoch   1 | Train average loss: 1.25168 | Validation average loss: 1.37313\n",
      "Epoch   2 | Train average loss: 1.16689 | Validation average loss: 1.30589\n",
      "Epoch   3 | Train average loss: 1.14636 | Validation average loss: 1.22702\n",
      "Epoch   4 | Train average loss: 1.13602 | Validation average loss: 1.22082\n",
      "Epoch   5 | Train average loss: 1.12860 | Validation average loss: 1.18617\n",
      "Epoch   6 | Train average loss: 1.12229 | Validation average loss: 1.19096\n",
      "Epoch   7 | Train average loss: 1.11651 | Validation average loss: 1.17014\n",
      "Epoch   8 | Train average loss: 1.11101 | Validation average loss: 1.15266\n",
      "Epoch   9 | Train average loss: 1.10447 | Validation average loss: 1.15308\n",
      "Epoch  10 | Train average loss: 1.09933 | Validation average loss: 1.14320\n",
      "Epoch  11 | Train average loss: 1.09367 | Validation average loss: 1.13314\n",
      "Epoch  12 | Train average loss: 1.08733 | Validation average loss: 1.12000\n",
      "Epoch  13 | Train average loss: 1.08173 | Validation average loss: 1.10312\n",
      "Epoch  14 | Train average loss: 1.07484 | Validation average loss: 1.09138\n",
      "Epoch  15 | Train average loss: 1.07123 | Validation average loss: 1.09245\n",
      "Epoch  16 | Train average loss: 1.06568 | Validation average loss: 1.08038\n",
      "Epoch  17 | Train average loss: 1.05992 | Validation average loss: 1.07578\n",
      "Epoch  18 | Train average loss: 1.05570 | Validation average loss: 1.06490\n",
      "Epoch  19 | Train average loss: 1.05259 | Validation average loss: 1.06228\n",
      "Epoch  20 | Train average loss: 1.04764 | Validation average loss: 1.04577\n",
      "Epoch  21 | Train average loss: 1.04462 | Validation average loss: 1.04845\n",
      "Epoch  22 | Train average loss: 1.04141 | Validation average loss: 1.03961\n",
      "Epoch  23 | Train average loss: 1.03832 | Validation average loss: 1.03282\n",
      "Epoch  24 | Train average loss: 1.03547 | Validation average loss: 1.03221\n",
      "Epoch  25 | Train average loss: 1.03305 | Validation average loss: 1.02409\n",
      "Epoch  26 | Train average loss: 1.03069 | Validation average loss: 1.02402\n",
      "Epoch  27 | Train average loss: 1.02777 | Validation average loss: 1.01937\n",
      "Epoch  28 | Train average loss: 1.02379 | Validation average loss: 1.01119\n",
      "Epoch  29 | Train average loss: 1.02340 | Validation average loss: 1.01682\n",
      "Epoch  30 | Train average loss: 1.02147 | Validation average loss: 1.01069\n",
      "Epoch  31 | Train average loss: 1.01957 | Validation average loss: 1.01379\n",
      "Epoch  32 | Train average loss: 1.01874 | Validation average loss: 1.00547\n",
      "Epoch  33 | Train average loss: 1.01588 | Validation average loss: 1.00084\n",
      "Epoch  34 | Train average loss: 1.01441 | Validation average loss: 0.98970\n",
      "Epoch  35 | Train average loss: 1.01356 | Validation average loss: 0.99094\n",
      "Epoch  36 | Train average loss: 1.01201 | Validation average loss: 0.99751\n",
      "Epoch  37 | Train average loss: 1.00938 | Validation average loss: 0.98762\n",
      "Epoch  38 | Train average loss: 1.00811 | Validation average loss: 0.98936\n",
      "Epoch  39 | Train average loss: 1.00808 | Validation average loss: 0.98689\n",
      "Epoch  40 | Train average loss: 1.00514 | Validation average loss: 0.98247\n",
      "Epoch  41 | Train average loss: 1.00487 | Validation average loss: 0.97794\n",
      "Epoch  42 | Train average loss: 1.00280 | Validation average loss: 0.98025\n",
      "Epoch  43 | Train average loss: 1.00177 | Validation average loss: 0.98138\n",
      "Epoch  44 | Train average loss: 1.00079 | Validation average loss: 0.98252\n",
      "Epoch  45 | Train average loss: 0.99943 | Validation average loss: 0.97803\n",
      "Epoch  46 | Train average loss: 0.99867 | Validation average loss: 0.97312\n",
      "Epoch  47 | Train average loss: 0.99718 | Validation average loss: 0.97745\n",
      "Epoch  48 | Train average loss: 0.99545 | Validation average loss: 0.97042\n",
      "Epoch  49 | Train average loss: 0.99502 | Validation average loss: 0.96665\n",
      "Epoch  50 | Train average loss: 0.99436 | Validation average loss: 0.96852\n",
      "Epoch  51 | Train average loss: 0.99330 | Validation average loss: 0.96946\n",
      "Epoch  52 | Train average loss: 0.99208 | Validation average loss: 0.96335\n",
      "Epoch  53 | Train average loss: 0.99077 | Validation average loss: 0.97427\n",
      "Epoch  54 | Train average loss: 0.98988 | Validation average loss: 0.96626\n",
      "Epoch  55 | Train average loss: 0.98962 | Validation average loss: 0.95936\n",
      "Epoch  56 | Train average loss: 0.98881 | Validation average loss: 0.96259\n",
      "Epoch  57 | Train average loss: 0.98756 | Validation average loss: 0.96246\n",
      "Epoch  58 | Train average loss: 0.98666 | Validation average loss: 0.96483\n",
      "Epoch  59 | Train average loss: 0.98571 | Validation average loss: 0.96056\n",
      "Epoch  60 | Train average loss: 0.98635 | Validation average loss: 0.95540\n",
      "Epoch  61 | Train average loss: 0.98445 | Validation average loss: 0.95981\n",
      "Epoch  62 | Train average loss: 0.98466 | Validation average loss: 0.95826\n",
      "Epoch  63 | Train average loss: 0.98339 | Validation average loss: 0.95525\n",
      "Epoch  64 | Train average loss: 0.98087 | Validation average loss: 0.95504\n",
      "Epoch  65 | Train average loss: 0.98113 | Validation average loss: 0.96059\n",
      "Epoch  66 | Train average loss: 0.97974 | Validation average loss: 0.95054\n",
      "Epoch  67 | Train average loss: 0.97977 | Validation average loss: 0.95343\n",
      "Epoch  68 | Train average loss: 0.97883 | Validation average loss: 0.95372\n",
      "Epoch  69 | Train average loss: 0.97881 | Validation average loss: 0.95681\n",
      "Epoch  70 | Train average loss: 0.97698 | Validation average loss: 0.94663\n",
      "Epoch  71 | Train average loss: 0.97763 | Validation average loss: 0.94938\n",
      "Epoch  72 | Train average loss: 0.97641 | Validation average loss: 0.95098\n",
      "Epoch  73 | Train average loss: 0.97586 | Validation average loss: 0.94558\n",
      "Epoch  74 | Train average loss: 0.97521 | Validation average loss: 0.94992\n",
      "Epoch  75 | Train average loss: 0.97465 | Validation average loss: 0.95136\n",
      "Epoch  76 | Train average loss: 0.97346 | Validation average loss: 0.94919\n",
      "Epoch  77 | Train average loss: 0.97436 | Validation average loss: 0.94547\n",
      "Epoch  78 | Train average loss: 0.97260 | Validation average loss: 0.94490\n",
      "Epoch  79 | Train average loss: 0.97083 | Validation average loss: 0.94484\n",
      "Epoch  80 | Train average loss: 0.97093 | Validation average loss: 0.94245\n",
      "Epoch  81 | Train average loss: 0.97148 | Validation average loss: 0.94361\n",
      "Epoch  82 | Train average loss: 0.96902 | Validation average loss: 0.94151\n",
      "Epoch  83 | Train average loss: 0.96852 | Validation average loss: 0.93688\n",
      "Epoch  84 | Train average loss: 0.96979 | Validation average loss: 0.94318\n",
      "Epoch  85 | Train average loss: 0.96776 | Validation average loss: 0.94088\n",
      "Epoch  86 | Train average loss: 0.96810 | Validation average loss: 0.93745\n",
      "Epoch  87 | Train average loss: 0.96694 | Validation average loss: 0.94268\n",
      "Epoch  88 | Train average loss: 0.96614 | Validation average loss: 0.93869\n",
      "Epoch  89 | Train average loss: 0.96639 | Validation average loss: 0.93417\n",
      "Epoch  90 | Train average loss: 0.96599 | Validation average loss: 0.93816\n",
      "Epoch  91 | Train average loss: 0.96610 | Validation average loss: 0.93849\n",
      "Epoch  92 | Train average loss: 0.96544 | Validation average loss: 0.93847\n",
      "Epoch  93 | Train average loss: 0.96371 | Validation average loss: 0.94105\n",
      "Epoch  94 | Train average loss: 0.96378 | Validation average loss: 0.93497\n",
      "Epoch  95 | Train average loss: 0.96234 | Validation average loss: 0.93401\n",
      "Epoch  96 | Train average loss: 0.96226 | Validation average loss: 0.93392\n",
      "Epoch  97 | Train average loss: 0.96227 | Validation average loss: 0.93412\n",
      "Epoch  98 | Train average loss: 0.96210 | Validation average loss: 0.93744\n",
      "Epoch  99 | Train average loss: 0.96070 | Validation average loss: 0.93085\n",
      "Epoch 100 | Train average loss: 0.96089 | Validation average loss: 0.93335\n"
     ]
    },
    {
     "data": {
      "image/png": "[encoded data removed]",
      "text/plain": [
       "<Figure size 432x288 with 1 Axes>"
      ]
     },
     "metadata": {
      "needs_background": "light"
     },
     "output_type": "display_data"
    },
    {
     "name": "stdout",
     "output_type": "stream",
     "text": [
      "Best validation loss at epoch 99 | Train loss: 0.9607 | Validation loss 0.93085\n"
     ]
    }
   ],
   "source": [
    "model_trained = train_model(train_loader,\n",
    "                            val_loader, \n",
    "                            max_epochs, \n",
    "                            batch_size, \n",
    "                            model, \n",
    "                            criterion, \n",
    "                            optimizer, \n",
    "                            modelpath)"
   ]
  },
  {
   "cell_type": "code",
   "execution_count": null,
   "metadata": {},
   "outputs": [],
   "source": []
  }
 ],
 "metadata": {
  "kernelspec": {
   "display_name": "Python 3",
   "language": "python",
   "name": "python3"
  },
  "language_info": {
   "codemirror_mode": {
    "name": "ipython",
    "version": 3
   },
   "file_extension": ".py",
   "mimetype": "text/x-python",
   "name": "python",
   "nbconvert_exporter": "python",
   "pygments_lexer": "ipython3",
   "version": "3.6.6"
  }
 },
 "nbformat": 4,
 "nbformat_minor": 2
}
