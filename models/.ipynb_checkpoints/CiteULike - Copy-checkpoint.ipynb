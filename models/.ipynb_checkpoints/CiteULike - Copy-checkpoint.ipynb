{
 "cells": [
  {
   "cell_type": "markdown",
   "metadata": {},
   "source": [
    "# Text Collaborative Filtering\n",
    "With your best friends; Cookie Optimizers :D "
   ]
  },
  {
   "cell_type": "markdown",
   "metadata": {},
   "source": [
    "# CiteULike\n",
    "## Imports"
   ]
  },
  {
   "cell_type": "code",
   "execution_count": 1,
   "metadata": {},
   "outputs": [],
   "source": [
    "# !python -m spacy download en"
   ]
  },
  {
   "cell_type": "code",
   "execution_count": 2,
   "metadata": {},
   "outputs": [],
   "source": [
    "import pandas as pd\n",
    "import numpy as np\n",
    "\n",
    "import spacy\n",
    "from torchtext.data import Field, TabularDataset, BucketIterator\n",
    "from torchtext.vocab import Vocab\n",
    "\n",
    "import torch\n",
    "import torch.nn.functional as F\n",
    "import torch.nn.utils.rnn as rnn_utils\n",
    "import torch.optim as optim\n",
    "from torch.autograd import Variable\n",
    "from torch import nn"
   ]
  },
  {
   "cell_type": "code",
   "execution_count": 3,
   "metadata": {},
   "outputs": [],
   "source": [
    "device = torch.device(\"cuda\" if torch.cuda.is_available() else \"cpu\")"
   ]
  },
  {
   "cell_type": "code",
   "execution_count": 4,
   "metadata": {},
   "outputs": [],
   "source": [
    "%matplotlib inline\n",
    "import matplotlib\n",
    "import matplotlib.pyplot as plt"
   ]
  },
  {
   "cell_type": "code",
   "execution_count": 5,
   "metadata": {},
   "outputs": [],
   "source": [
    "import warnings\n",
    "warnings.filterwarnings('ignore')"
   ]
  },
  {
   "cell_type": "markdown",
   "metadata": {},
   "source": [
    "## Data Loaders"
   ]
  },
  {
   "cell_type": "code",
   "execution_count": 6,
   "metadata": {},
   "outputs": [],
   "source": [
    "def condence(nparr):\n",
    "    uniq = np.unique(nparr)\n",
    "    name2idx = {o:i for i,o in enumerate(uniq)}\n",
    "    return np.array([name2idx[o] for o in nparr])\n",
    "\n",
    "def readData(data, interactions, text_index, shuffle, sizes, data_path):\n",
    "    # Read files\n",
    "    rawtext = pd.read_csv(data)\n",
    "    interactions = pd.read_csv(interactions)\n",
    "    interactions[\"user.id\"] = condence(interactions[\"user.id\"].values)\n",
    "    \n",
    "    # Shuffle\n",
    "    if shuffle:\n",
    "        iteractions = np.random.shuffle(interactions.values)\n",
    "    \n",
    "    # Replace doc.id with text found in text_index\n",
    "    interactions[\"doc.id\"] = [rawtext.iloc[int(idx),text_index] for idx in interactions[\"doc.id\"]]\n",
    "    \n",
    "    # Split into train,val,test\n",
    "    n = len(interactions)\n",
    "    train_size = int(sizes[0] * n)\n",
    "    val_size = int(sizes[1] * n)\n",
    "    test_size = n - train_size - val_size\n",
    "\n",
    "    train = interactions[:train_size]\n",
    "    val = interactions[train_size:train_size+val_size]\n",
    "    test = interactions[train_size+val_size:]\n",
    "    \n",
    "    # Generate unique non-rated negative samples for trainig\n",
    "    uniq_items = np.unique(rawtext[\"doc.id\"])[:-1]\n",
    "    uniq_users = np.unique(train[\"user.id\"])[:-1]\n",
    "    items = set((x[0],x[1]) for x in train[[\"user.id\",\"doc.id\"]].values)\n",
    "    \n",
    "    n = len(train)\n",
    "    pairs = []\n",
    "    while(len(pairs) < n):\n",
    "        item = np.random.choice(uniq_items, size = 1)[0]\n",
    "        user = np.random.choice(uniq_users, size = 1)[0]\n",
    "        if (user,item) not in items:\n",
    "            pairs += [(user,item,0)]\n",
    "            items.add((user,item))\n",
    "            \n",
    "    # Add negative samples to trainig\n",
    "    interactionsNegatives = np.vstack((train, pairs))\n",
    "    train = pd.DataFrame(data = interactionsNegatives, columns = [\"user.id\",\"doc.id\", \"rating\"])\n",
    "\n",
    "    # Replace negative doc.id with text found in text_index\n",
    "    train[\"doc.id\"].loc[n:] = [rawtext.iloc[int(idx),text_index] for idx in train[\"doc.id\"].loc[n:]]\n",
    "\n",
    "    #shuffle negative samples into training, panda style\n",
    "    if shuffle:\n",
    "        train = train.sample(frac=1) \n",
    "    \n",
    "    # Save into seprate files\n",
    "    train.to_csv(data_path+'train.csv', header = False, index = False)\n",
    "    val.to_csv(data_path+'val.csv', header = False, index = False)\n",
    "    test.to_csv(data_path+'test.csv', header = False, index = False)\n",
    "    \n",
    "    # Clean vars\n",
    "    max_length = max(len(s.split(' ')) for s in rawtext.iloc[:,text_index])\n",
    "    del rawtext, interactions, n, uniq_items, uniq_users, items, pairs\n",
    "    del interactionsNegatives, train, val, test\n",
    "    \n",
    "    # Create Text fields\n",
    "    spacy_en = spacy.load('en')\n",
    "    def tokenizer(text):\n",
    "        return [tok.text for tok in spacy_en.tokenizer(text)]\n",
    "\n",
    "    ID = Field(sequential=False, use_vocab=False)\n",
    "    TEXT = Field(sequential=True, lower=True, include_lengths=True, fix_length=max_length, tokenize=tokenizer)\n",
    "    RATING = Field(sequential=False, use_vocab=False)\n",
    "\n",
    "    train, val, test = TabularDataset.splits(\n",
    "            path=data_path, train='train.csv',validation='val.csv', test='test.csv',\n",
    "            format='csv', fields=[('ID', ID), ('Text', TEXT), ('Rating', RATING)])\n",
    "    \n",
    "    ID.build_vocab(train)\n",
    "    TEXT.build_vocab(train, vectors=\"glove.6B.100d\")\n",
    "    RATING.build_vocab(train)\n",
    "    \n",
    "    return (train, val, test), (ID,TEXT,RATING)"
   ]
  },
  {
   "cell_type": "code",
   "execution_count": 7,
   "metadata": {},
   "outputs": [],
   "source": [
    "def getLoaders(data, batch_size):\n",
    "    loaders = BucketIterator.splits(\n",
    "        data,\n",
    "        batch_sizes=batch_size,\n",
    "        repeat=False,\n",
    "        sort_key=lambda x: len(x.Text),\n",
    "        sort_within_batch = True)\n",
    "    \n",
    "    return loaders"
   ]
  },
  {
   "cell_type": "markdown",
   "metadata": {},
   "source": [
    "## Model"
   ]
  },
  {
   "cell_type": "code",
   "execution_count": 8,
   "metadata": {},
   "outputs": [],
   "source": [
    "class CFNN(nn.Module):\n",
    "    def __init__(self, num_users, num_items, embedding_dim, RNN_n_hidden, l1_hidden, p_dropout):\n",
    "        super(CFNN, self).__init__()\n",
    "        # embeddings\n",
    "        self.user_emb = nn.Embedding(num_users, embedding_dim)\n",
    "        self.item_emb = nn.Embedding(num_items, embedding_dim)\n",
    "        \n",
    "        # dense layers\n",
    "        self.lin1 = nn.Linear(RNN_n_hidden+embedding_dim, l1_hidden)\n",
    "        self.linOut = nn.Linear(l1_hidden, 1)\n",
    "        self.drop0 = nn.Dropout(p_dropout)\n",
    "        self.drop1 = nn.Dropout(p_dropout)\n",
    "                \n",
    "        # RNN decoding\n",
    "        self.RNN_n_hidden = RNN_n_hidden\n",
    "        self.rnn = nn.LSTM(embedding_dim, RNN_n_hidden, bidirectional = True)\n",
    "        self.rnnlin = nn.Linear(RNN_n_hidden*2, RNN_n_hidden)\n",
    "        \n",
    "        ## Attention module\n",
    "        #self.attn = nn.Linear(n_hidden, n_hidden)\n",
    "        #self.attn_combine = nn.Linear(n_hidden * 2, n_hidden)\n",
    "        \n",
    "        ## activation\n",
    "        self.sigmoid = nn.Sigmoid()\n",
    "\n",
    "    def forward(self, u, v, hidden, seq_lengths):\n",
    "        ## Embeddings\n",
    "        U = self.user_emb(u)\n",
    "        V = self.item_emb(v)\n",
    "        \n",
    "        ## Packing, Encoding, Padding\n",
    "        V_packed = rnn_utils.pack_padded_sequence(V, seq_lengths)\n",
    "        V_rnnOut, (hn, cn) = self.rnn(V_packed, hidden)\n",
    "        V_padded, seq_lengths = rnn_utils.pad_packed_sequence(V_rnnOut)\n",
    "        V_padded = F.relu(V_padded)\n",
    "        #padded = mask + padded\n",
    "        #padded = F.softmax(padded)\n",
    "        V_mean = V_padded.mean(dim=0)\n",
    "        V_rnn = F.relu(self.rnnlin(V_mean))\n",
    "         \n",
    "        ## Attention module\n",
    "        #attn = self.attn(V_rnnOut)\n",
    "        #attn_weights = F.softmax(attn, dim=1)\n",
    "        #attn_applied = torch.mm(attn_weights, U.t())\n",
    "        #print(attn_applied)\n",
    "        \n",
    "        ## Matrix factorization\n",
    "        x = torch.cat([U, V_rnn], dim=1)\n",
    "        x = self.drop0(x)\n",
    "        x = F.relu(self.lin1(x))\n",
    "        x = self.drop1(x)\n",
    "        x = self.sigmoid(self.linOut(x))\n",
    "        return x\n",
    "\n",
    "        \n",
    "    \n",
    "    def init_hidden(self, batch_size):\n",
    "        init = torch.zeros(2, batch_size, self.RNN_n_hidden).to(device)\n",
    "        return (init,init)"
   ]
  },
  {
   "cell_type": "markdown",
   "metadata": {},
   "source": [
    "## Training Loop"
   ]
  },
  {
   "cell_type": "code",
   "execution_count": 9,
   "metadata": {},
   "outputs": [],
   "source": [
    "def count_acc(output,ratings,TP,FP,TN,FN):\n",
    "    for yhat,y in zip(output.data, ratings.data):\n",
    "        yhat = 0.0 if yhat < 0.5 else 1.0\n",
    "        if yhat == y:\n",
    "            if yhat == 1:\n",
    "                TP += 1\n",
    "            else:\n",
    "                TN += 1\n",
    "        elif yhat == 1:\n",
    "            FP += 1\n",
    "        else:\n",
    "            FN += 1\n",
    "    return TP,FP,TN,FN\n",
    "\n",
    "def train(model, train_loader, optimizer, criterion):\n",
    "    model.train()\n",
    "    train_loss = 0\n",
    "    TP,FP,TN,FN = 0,0,0,0\n",
    "    for data in train_loader:\n",
    "        batch_size = len(data.ID)\n",
    "        \n",
    "        users = data.ID.long().to(device)\n",
    "        items = data.Text[0].long().to(device)\n",
    "        seq_lengths = data.Text[1]\n",
    "        ratings = data.Rating.float().to(device) \n",
    "        ratings = ratings.unsqueeze(1)\n",
    "        \n",
    "        optimizer.zero_grad()\n",
    "        hidden_size = model.init_hidden(batch_size)\n",
    "        output = model(users, items, hidden_size, seq_lengths)\n",
    "        loss = criterion(output, ratings)\n",
    "        loss.backward()\n",
    "        optimizer.step()\n",
    "        \n",
    "        train_loss += loss.item()\n",
    "        TP,FP,TN,FN = count_acc(output,ratings,TP,FP,TN,FN)\n",
    "    \n",
    "    train_acc = (TP + TN)/(TP + TN + FP + FN)\n",
    "    train_loss /= len(train_loader)\n",
    "    return train_acc, train_loss \n",
    "\n",
    "def validate(model, val_loader, criterion):\n",
    "    model.eval()\n",
    "    val_loss = 0\n",
    "    TP,FP,TN,FN = 0,0,0,0\n",
    "    with torch.no_grad():\n",
    "        for data in val_loader:\n",
    "            batch_size = len(data.ID)\n",
    "\n",
    "            users = data.ID.long().to(device)\n",
    "            items = data.Text[0].long().to(device)\n",
    "            seq_lengths = data.Text[1]\n",
    "            ratings = data.Rating.float().to(device) \n",
    "            ratings = ratings.unsqueeze(1)\n",
    "            \n",
    "            hidden_size = model.init_hidden(batch_size)\n",
    "            output = model(users, items, hidden_size, seq_lengths)\n",
    "            loss = criterion(output, ratings)\n",
    "            \n",
    "            val_loss += loss.item()\n",
    "            TP,FP,TN,FN = count_acc(output,ratings,TP,FP,TN,FN) \n",
    "                        \n",
    "    val_acc = (TP + TN)/(TP + FN + TN + FN)\n",
    "    val_loss /= len(val_loader)\n",
    "    return val_acc, val_loss\n",
    "\n",
    "def train_model(train_loader, val_loader, max_epochs, batchsize, model, criterion, optimizer, modelpath=None):\n",
    "    # check path for early stopping\n",
    "    if modelpath != None:\n",
    "        patience_count = 0\n",
    "        torch.save(model, modelpath)\n",
    "    \n",
    "    # Train model\n",
    "    best_loss = (-1, -1, 1e15, -1, -1)\n",
    "    train_accs = []\n",
    "    train_losses = []\n",
    "    val_accs = []\n",
    "    val_losses = []\n",
    "    \n",
    "    for epoch in range(1, max_epochs + 1):\n",
    "        train_acc, train_loss = train(model, train_loader, optimizer, criterion)\n",
    "        val_acc, val_loss = validate(model, val_loader, criterion)\n",
    "        \n",
    "        train_accs += [train_acc]\n",
    "        train_losses += [train_loss]\n",
    "        val_accs += [val_acc]\n",
    "        val_losses += [val_loss]\n",
    "        print('\\n',f'Epoch {epoch}:')\n",
    "        print(f' Train average loss: {f\"{train_loss:3.5f}\":>9s} | Validation average loss: {val_loss:3.5f}')\n",
    "        print(f' Train average acc: {f\"{train_acc:3.5f}\":>10s} | Validation average acc: {val_acc:>4.5f}')\n",
    "        \n",
    "        # Early stopping\n",
    "        if val_loss < best_loss[2]:\n",
    "            best_loss = (epoch, train_loss, val_loss, train_acc, val_acc)\n",
    "            \n",
    "            if modelpath != None:\n",
    "                patience_count = 0\n",
    "                torch.save(model, modelpath)\n",
    "        if modelpath != None:\n",
    "            if patience_count == 10:\n",
    "                model = torch.load(modelpath)\n",
    "                break\n",
    "            else:\n",
    "                patience_count += 1\n",
    "    \n",
    "    # Plot loss and accuracy\n",
    "    plt.plot(range(1,epoch+1), val_losses, color='b')\n",
    "    plt.plot(range(1,epoch+1), train_losses, color='g')\n",
    "    plt.axvline(x=best_loss[0], color='r')\n",
    "    plt.show()\n",
    "    plt.plot(range(1,epoch+1), val_accs, color='b')\n",
    "    plt.plot(range(1,epoch+1), train_accs, color='g')\n",
    "    plt.axvline(x=best_loss[0], color='r')\n",
    "    plt.show()\n",
    "    print(f'Best validation loss at epoch {best_loss[0]}')\n",
    "    print(f'Train loss: {f\"{best_loss[1]:3.5f}\":>9s} | Validation loss: {best_loss[2]:3.5f}')\n",
    "    print(f'Train acc: {f\"{best_loss[3]:3.5f}\":>10s} | Validation acc: {best_loss[4]:>4.5f}')\n",
    "    \n",
    "    # return loaded model if early stop otherwise, finished model.\n",
    "    return model"
   ]
  },
  {
   "cell_type": "markdown",
   "metadata": {},
   "source": [
    "## Parameters"
   ]
  },
  {
   "cell_type": "code",
   "execution_count": 10,
   "metadata": {},
   "outputs": [],
   "source": [
    "# Data params\n",
    "data = '../datasets/citeulike/raw-data.csv'\n",
    "interactions ='../datasets/citeulike/user-info-small.csv'\n",
    "#interactions = '../datasets/citeulike/user-info.csv'\n",
    "text_index = 1\n",
    "shuffle_data = True\n",
    "sizes = [0.7, 0.2, 0.1]\n",
    "data_path = '../datasets/citeulike/'\n",
    "batch_size = (31,32,33)"
   ]
  },
  {
   "cell_type": "code",
   "execution_count": 11,
   "metadata": {},
   "outputs": [],
   "source": [
    "# Data from params\n",
    "data, fields = readData(data, interactions, text_index, shuffle_data, sizes, data_path)\n",
    "(ID,TEXT,RATING) = fields"
   ]
  },
  {
   "cell_type": "code",
   "execution_count": 12,
   "metadata": {},
   "outputs": [],
   "source": [
    "# Model parans\n",
    "num_users = len(ID.vocab.itos)\n",
    "num_items = TEXT.vocab.vectors.size()[0]\n",
    "embedding_dim = TEXT.vocab.vectors.size()[1] #100?\n",
    "RNN_n_hidden = 101\n",
    "l1_hidden = 102\n",
    "p_dropout = 0.3"
   ]
  },
  {
   "cell_type": "code",
   "execution_count": 13,
   "metadata": {},
   "outputs": [],
   "source": [
    "# model from params\n",
    "model = CFNN(num_users, num_items, embedding_dim, RNN_n_hidden, l1_hidden, p_dropout).to(device)"
   ]
  },
  {
   "cell_type": "code",
   "execution_count": 14,
   "metadata": {},
   "outputs": [],
   "source": [
    "# Training params\n",
    "modelpath = '../torch_models/citeulike/best.pth'\n",
    "max_epochs = 100\n",
    "batch_size = (31,32,33) # defined in data params\n",
    "learning_rate = 0.001\n",
    "weight_decay = 1e-6\n",
    "criterion = nn.BCELoss()\n",
    "optimizer = optim.Adam(model.parameters(), lr=learning_rate, weight_decay=weight_decay)"
   ]
  },
  {
   "cell_type": "code",
   "execution_count": 15,
   "metadata": {},
   "outputs": [],
   "source": [
    "(train_loader, val_loader, test_loader) = getLoaders(data, batch_size)"
   ]
  },
  {
   "cell_type": "code",
   "execution_count": 16,
   "metadata": {},
   "outputs": [
    {
     "name": "stdout",
     "output_type": "stream",
     "text": [
      "Text fields:\n",
      " size of vocabulary: 5140\n",
      " vocabulary's embedding dimension: torch.Size([5140, 100])\n",
      " no. times the \"the\" appear in the dataset: 937\n",
      "\n",
      " CFNN(\n",
      "  (user_emb): Embedding(45, 100)\n",
      "  (item_emb): Embedding(5140, 100)\n",
      "  (lin1): Linear(in_features=201, out_features=102, bias=True)\n",
      "  (linOut): Linear(in_features=102, out_features=1, bias=True)\n",
      "  (drop0): Dropout(p=0.3)\n",
      "  (drop1): Dropout(p=0.3)\n",
      "  (rnn): LSTM(100, 101, bidirectional=True)\n",
      "  (rnnlin): Linear(in_features=202, out_features=101, bias=True)\n",
      "  (sigmoid): Sigmoid()\n",
      ") \n",
      "\n",
      "Amount of batches in training set:   97 | Total samples: 3007\n",
      "Amount of batches in validation set: 14 | Total samples:  448\n",
      "Amount of batches in testing set:     7 | Total samples:  231\n"
     ]
    }
   ],
   "source": [
    "# Print info on text data\n",
    "print('Text fields:')\n",
    "#print('keys of TEXT.vocab:', list(TEXT.vocab.__dict__.keys()))\n",
    "print(' size of vocabulary:', len(TEXT.vocab))\n",
    "print(\" vocabulary's embedding dimension:\", TEXT.vocab.vectors.size())\n",
    "print(' no. times the \"the\" appear in the dataset:', TEXT.vocab.freqs['the'])\n",
    "\n",
    "# Print info on model and loaders\n",
    "ls = [len(l) for l in [train_loader, val_loader, test_loader]]\n",
    "mbls = max([len(str(l)) for l in ls])\n",
    "mls = max([len(str(l*batch_size[i])) for i,l in enumerate(ls)])\n",
    "\n",
    "print(\"\\n\", model, \"\\n\")\n",
    "print(f\"Amount of batches in training set:   {ls[0]:{mbls}d} | Total samples: {ls[0]*batch_size[0]:{mls}d}\")\n",
    "print(f\"Amount of batches in validation set: {ls[1]:{mbls}d} | Total samples: {ls[1]*batch_size[1]:{mls}d}\")\n",
    "print(f\"Amount of batches in testing set:    {ls[2]:{mbls}d} | Total samples: {ls[2]*batch_size[2]:{mls}d}\")"
   ]
  },
  {
   "cell_type": "markdown",
   "metadata": {},
   "source": [
    "## Train Model"
   ]
  },
  {
   "cell_type": "code",
   "execution_count": 17,
   "metadata": {},
   "outputs": [
    {
     "name": "stdout",
     "output_type": "stream",
     "text": [
      "\n",
      " Epoch 1:\n",
      " Train average loss:   0.65930 | Validation average loss: 0.71036\n",
      " Train average acc:    0.60241 | Validation average acc: 0.08238\n",
      "\n",
      " Epoch 2:\n",
      " Train average loss:   0.63413 | Validation average loss: 0.68992\n",
      " Train average acc:    0.66265 | Validation average acc: 0.10194\n",
      "\n",
      " Epoch 3:\n",
      " Train average loss:   0.61105 | Validation average loss: 0.67821\n",
      " Train average acc:    0.67068 | Validation average acc: 0.24309\n",
      "\n",
      " Epoch 4:\n",
      " Train average loss:   0.53573 | Validation average loss: 0.93944\n",
      " Train average acc:    0.73728 | Validation average acc: 0.30982\n",
      "\n",
      " Epoch 5:\n",
      " Train average loss:   0.42324 | Validation average loss: 1.27234\n",
      " Train average acc:    0.81325 | Validation average acc: 0.23410\n",
      "\n",
      " Epoch 6:\n",
      " Train average loss:   0.30224 | Validation average loss: 1.18774\n",
      " Train average acc:    0.87952 | Validation average acc: 0.35127\n",
      "\n",
      " Epoch 7:\n",
      " Train average loss:   0.22242 | Validation average loss: 1.13226\n",
      " Train average acc:    0.91968 | Validation average acc: 0.37520\n",
      "\n",
      " Epoch 8:\n",
      " Train average loss:   0.17666 | Validation average loss: 1.36184\n",
      " Train average acc:    0.93675 | Validation average acc: 0.33856\n",
      "\n",
      " Epoch 9:\n",
      " Train average loss:   0.13560 | Validation average loss: 1.76247\n",
      " Train average acc:    0.95549 | Validation average acc: 0.30183\n",
      "\n",
      " Epoch 10:\n",
      " Train average loss:   0.11977 | Validation average loss: 2.30768\n",
      " Train average acc:    0.95616 | Validation average acc: 0.25037\n",
      "\n",
      " Epoch 11:\n",
      " Train average loss:   0.12124 | Validation average loss: 1.58273\n",
      " Train average acc:    0.95549 | Validation average acc: 0.38412\n",
      "\n",
      " Epoch 12:\n",
      " Train average loss:   0.10746 | Validation average loss: 2.18676\n",
      " Train average acc:    0.95750 | Validation average acc: 0.31183\n",
      "\n",
      " Epoch 13:\n",
      " Train average loss:   0.09480 | Validation average loss: 1.79713\n",
      " Train average acc:    0.95917 | Validation average acc: 0.34488\n"
     ]
    },
    {
     "data": {
      "image/png": "[encoded data removed]",
      "text/plain": [
       "<Figure size 432x288 with 1 Axes>"
      ]
     },
     "metadata": {
      "needs_background": "light"
     },
     "output_type": "display_data"
    },
    {
     "data": {
      "image/png": "[encoded data removed]",
      "text/plain": [
       "<Figure size 432x288 with 1 Axes>"
      ]
     },
     "metadata": {
      "needs_background": "light"
     },
     "output_type": "display_data"
    },
    {
     "name": "stdout",
     "output_type": "stream",
     "text": [
      "Best validation loss at epoch 3\n",
      "Train loss:   0.61105 | Validation loss: 0.67821\n",
      "Train acc:    0.67068 | Validation acc: 0.24309\n"
     ]
    }
   ],
   "source": [
    "model_trained = train_model(train_loader,\n",
    "                            val_loader,\n",
    "                            max_epochs, \n",
    "                            batch_size, \n",
    "                            model, \n",
    "                            criterion, \n",
    "                            optimizer, \n",
    "                            modelpath)"
   ]
  },
  {
   "cell_type": "markdown",
   "metadata": {},
   "source": [
    "## Test Model"
   ]
  },
  {
   "cell_type": "code",
   "execution_count": 18,
   "metadata": {},
   "outputs": [],
   "source": [
    "model_trained.eval()\n",
    "test_loss = 0\n",
    "TP,FP,TN,FN = 0,0,0,0\n",
    "with torch.no_grad():\n",
    "    for data in val_loader:\n",
    "        batch_size = len(data.ID)\n",
    "\n",
    "        users = data.ID.long().to(device)\n",
    "        items = data.Text[0].long().to(device)\n",
    "        seq_lengths = data.Text[1]\n",
    "        ratings = data.Rating.float().to(device) \n",
    "        ratings = ratings.unsqueeze(1)\n",
    "\n",
    "        hidden_size = model.init_hidden(batch_size)\n",
    "        output = model(users, items, hidden_size, seq_lengths)\n",
    "        loss = criterion(output, ratings)\n",
    "\n",
    "        test_loss += loss.item()\n",
    "        TP,FP,TN,FN = count_acc(output,ratings,TP,FP,TN,FN) \n",
    "\n",
    "test_acc = (TP + TN)/(TP + FN + TN + FN)\n",
    "test_loss /= len(test_loader)\n",
    "\n",
    "# UNCOMMENT ONLY WHEN MODEL IS COMPLETELY FINISHED\n",
    "#print(f'Final test average loss: {test_loss} | average acc: {test_acc}')"
   ]
  },
  {
   "cell_type": "code",
   "execution_count": null,
   "metadata": {},
   "outputs": [],
   "source": []
  }
 ],
 "metadata": {
  "kernelspec": {
   "display_name": "Python 3",
   "language": "python",
   "name": "python3"
  },
  "language_info": {
   "codemirror_mode": {
    "name": "ipython",
    "version": 3
   },
   "file_extension": ".py",
   "mimetype": "text/x-python",
   "name": "python",
   "nbconvert_exporter": "python",
   "pygments_lexer": "ipython3",
   "version": "3.6.5"
  }
 },
 "nbformat": 4,
 "nbformat_minor": 2
}
