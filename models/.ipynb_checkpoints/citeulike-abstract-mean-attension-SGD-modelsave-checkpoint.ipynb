{
 "cells": [
  {
   "cell_type": "markdown",
   "metadata": {},
   "source": [
    "# Collaborative Filtering\n",
    "With your best friends; Cookie Optimizers :D "
   ]
  },
  {
   "cell_type": "markdown",
   "metadata": {},
   "source": [
    "## CiteULike"
   ]
  },
  {
   "cell_type": "code",
   "execution_count": 1,
   "metadata": {},
   "outputs": [
    {
     "name": "stdout",
     "output_type": "stream",
     "text": [
      "Requirement already satisfied: revtok in /opt/conda/lib/python3.6/site-packages (0.0.3)\n",
      "\u001b[31mspacy 2.0.13 has requirement msgpack-numpy<0.29,<0.4.4.0murmurhash>=0.28, but you'll have msgpack-numpy 0.4.4.1 which is incompatible.\u001b[0m\n",
      "\u001b[31mspacy 2.0.13 has requirement regex==2018.01.10, but you'll have regex 2017.11.9 which is incompatible.\u001b[0m\n",
      "\u001b[33mYou are using pip version 10.0.1, however version 18.1 is available.\n",
      "You should consider upgrading via the 'pip install --upgrade pip' command.\u001b[0m\n"
     ]
    }
   ],
   "source": [
    "!pip install revtok"
   ]
  },
  {
   "cell_type": "code",
   "execution_count": 2,
   "metadata": {},
   "outputs": [
    {
     "name": "stdout",
     "output_type": "stream",
     "text": [
      "Requirement already satisfied: en_core_web_sm==2.0.0 from https://github.com/explosion/spacy-models/releases/download/en_core_web_sm-2.0.0/en_core_web_sm-2.0.0.tar.gz#egg=en_core_web_sm==2.0.0 in /opt/conda/lib/python3.6/site-packages (2.0.0)\n",
      "\u001b[33mYou are using pip version 10.0.1, however version 18.1 is available.\n",
      "You should consider upgrading via the 'pip install --upgrade pip' command.\u001b[0m\n",
      "\n",
      "\u001b[93m    Linking successful\u001b[0m\n",
      "    /opt/conda/lib/python3.6/site-packages/en_core_web_sm -->\n",
      "    /opt/conda/lib/python3.6/site-packages/spacy/data/en\n",
      "\n",
      "    You can now load the model via spacy.load('en')\n",
      "\n"
     ]
    }
   ],
   "source": [
    "!python -m spacy download en"
   ]
  },
  {
   "cell_type": "code",
   "execution_count": 3,
   "metadata": {},
   "outputs": [],
   "source": [
    "from torchtext.data import Dataset, BucketIterator, Field, ReversibleField, TabularDataset, Iterator\n",
    "from torchtext.vocab import Vocab\n",
    "import pandas as pd\n",
    "import numpy as np\n",
    "import spacy\n",
    "\n",
    "import torch\n",
    "import torch.nn.functional as F\n",
    "import torch.optim as optim\n",
    "from torch.autograd import Variable\n",
    "from torch import nn\n",
    "import torch.nn.utils.rnn as rnn_utils\n",
    "\n",
    "device = torch.device(\"cuda\" if torch.cuda.is_available() else \"cpu\")"
   ]
  },
  {
   "cell_type": "code",
   "execution_count": 4,
   "metadata": {},
   "outputs": [],
   "source": [
    "%matplotlib inline\n",
    "import matplotlib\n",
    "import matplotlib.pyplot as plt"
   ]
  },
  {
   "cell_type": "code",
   "execution_count": 5,
   "metadata": {},
   "outputs": [],
   "source": [
    "import warnings\n",
    "warnings.filterwarnings('ignore')"
   ]
  },
  {
   "cell_type": "code",
   "execution_count": 6,
   "metadata": {},
   "outputs": [
    {
     "name": "stdout",
     "output_type": "stream",
     "text": [
      "859\n"
     ]
    }
   ],
   "source": [
    "def condence(nparr):\n",
    "    uniq = np.unique(nparr)\n",
    "    name2idx = {o:i for i,o in enumerate(uniq)}\n",
    "    return np.array([name2idx[o] for o in nparr]), uniq\n",
    "\n",
    "## Read set\n",
    "text_information_index = 4\n",
    "max_len = 1000\n",
    "data='../datasets/citeulike/raw-data.csv'\n",
    "interactions = '../datasets/citeulike/user-info-small.csv'\n",
    "#interactions = '../datasets/citeulike/user-info.csv'\n",
    "rawtext = pd.read_csv(data)\n",
    "interactions = pd.read_csv(interactions)\n",
    "interactions[\"user.id\"], uniq = condence(interactions[\"user.id\"].values)\n",
    "sizes = [0.8, 0.1, 0,1]\n",
    "\n",
    "interactions = interactions.sample(frac=1) # Shuffle\n",
    "filt = interactions[\"doc.id\"].map(lambda x: len(rawtext.iloc[x,text_information_index])) <= max_len\n",
    "interactions = interactions[filt]\n",
    "interactions[\"doc.id\"] = interactions[\"doc.id\"].transform(lambda idx: rawtext.iloc[int(idx),text_information_index])\n",
    "\n",
    "n = len(interactions)\n",
    "train_size = int(sizes[0] * n)\n",
    "val_size = int(sizes[1] * n)\n",
    "test_size = n - train_size - val_size\n",
    "\n",
    "train = interactions[:train_size]\n",
    "val = interactions[train_size:train_size+val_size]\n",
    "test = interactions[train_size+val_size:]\n",
    "\n",
    "n = len(train)\n",
    "\n",
    "uniq_items = np.unique(rawtext[\"doc.id\"])[:-1]\n",
    "uniq_users = np.unique(train[\"user.id\"])[:-1]\n",
    "items = set((x[0],x[1]) for x in train[[\"user.id\",\"doc.id\"]].values)\n",
    "\n",
    "pairs = []\n",
    "i = 0\n",
    "while(i < n):\n",
    "    \n",
    "    item = np.random.choice(uniq_items, size = 1)[0]\n",
    "    text = rawtext.iloc[int(item),text_information_index]\n",
    "    user = np.random.choice(uniq_users, size = 1)[0]\n",
    "    if len(text.split(' ')) <= max_len and (user,item) not in items:\n",
    "        i += 1\n",
    "        pairs += [(user,text,0)]\n",
    "        items.add((user,item))\n",
    "\n",
    "interactionsNegatives = np.vstack((train, pairs))\n",
    "\n",
    "train = pd.DataFrame(data = interactionsNegatives, columns = [\"user.id\",\"doc.id\", \"rating\"])\n",
    "\n",
    "val.to_csv('../datasets/citeulike/val.csv', header = False, index = False)\n",
    "test.to_csv('../datasets/citeulike/test.csv', header = False, index = False)\n",
    "\n",
    "del interactionsNegatives, items, uniq_items, uniq_users, pairs, interactions, val, test\n",
    "\n",
    "train = train.sample(frac=1) #shuffle panda style\n",
    "\n",
    "train.to_csv('../datasets/citeulike/train.csv', header = False, index = False)\n",
    "\n",
    "max_length = max(train[\"doc.id\"].map(lambda x: len(x.split(' '))))\n",
    "print(max_length)\n",
    "\n",
    "del train"
   ]
  },
  {
   "cell_type": "code",
   "execution_count": 7,
   "metadata": {},
   "outputs": [],
   "source": [
    "spacy_en = spacy.load('en')\n",
    "\n",
    "def tokenizer(text): # create a tokenizer function\n",
    "    return [tok.text for tok in spacy_en.tokenizer(text)]\n",
    "\n",
    "TEXT = ReversibleField(sequential=True, lower=True, include_lengths=True, fix_length=max_length, tokenize=tokenizer)\n",
    "LABEL = Field(sequential=False, use_vocab=False)\n",
    "ID = Field(sequential=False, use_vocab=False)\n",
    "\n",
    "train, val, test = TabularDataset.splits(\n",
    "        path='../datasets/citeulike', train='train.csv',\n",
    "        validation='val.csv', test='test.csv', format='csv',\n",
    "        fields=[('ID', ID), ('Text', TEXT), ('Label', LABEL)])\n",
    "\n",
    "TEXT.build_vocab(train, vectors=\"glove.6B.100d\")\n",
    "LABEL.build_vocab(train)\n",
    "ID.build_vocab(train)"
   ]
  },
  {
   "cell_type": "code",
   "execution_count": 8,
   "metadata": {},
   "outputs": [
    {
     "name": "stdout",
     "output_type": "stream",
     "text": [
      "Text fields:\n",
      " size of vocabulary: 16308\n",
      " vocabulary's embedding dimension: torch.Size([16308, 100])\n",
      " no. times the \"the\" appear in the dataset: 11720\n"
     ]
    }
   ],
   "source": [
    "print('Text fields:')\n",
    "#print('keys of TEXT.vocab:', list(TEXT.vocab.__dict__.keys()))\n",
    "print(' size of vocabulary:', len(TEXT.vocab))\n",
    "print(\" vocabulary's embedding dimension:\", TEXT.vocab.vectors.size())\n",
    "print(' no. times the \"the\" appear in the dataset:', TEXT.vocab.freqs['the'])"
   ]
  },
  {
   "cell_type": "code",
   "execution_count": 9,
   "metadata": {},
   "outputs": [],
   "source": [
    "batch_size = (101, 102, 103)\n",
    "\n",
    "train_iter, val_iter, test_iter = BucketIterator.splits(\n",
    "    (train, val, test), batch_sizes=batch_size, sort_key=lambda x: len(x.Text), sort_within_batch = True, repeat = False)"
   ]
  },
  {
   "cell_type": "code",
   "execution_count": 10,
   "metadata": {},
   "outputs": [],
   "source": [
    "# size of embeddings\n",
    "TEXT_Shape = TEXT.vocab.vectors.size()\n",
    "embedding_dim = TEXT_Shape[1]\n",
    "num_items = TEXT_Shape[0]\n",
    "num_users = len(ID.vocab.itos)\n",
    "n_hidden = 104\n",
    "l1_hidden = 105"
   ]
  },
  {
   "cell_type": "code",
   "execution_count": 11,
   "metadata": {},
   "outputs": [],
   "source": [
    "class CFNN(nn.Module):\n",
    "    def __init__(self, num_users, num_items, embedding_dim=embedding_dim, n_hidden=n_hidden, l1_hidden=l1_hidden):\n",
    "        super(CFNN, self).__init__()\n",
    "        self.user_emb = nn.Embedding(num_users, embedding_dim)\n",
    "        self.item_emb = nn.Embedding(num_items, embedding_dim)\n",
    "        self.lin1 = nn.Linear(n_hidden+embedding_dim, l1_hidden)\n",
    "        self.lin2 = nn.Linear(l1_hidden, 1)\n",
    "        self.drop0 = nn.Dropout(0.3)\n",
    "        self.drop1 = nn.Dropout(0.3)\n",
    "                \n",
    "        # RNN decoding\n",
    "        self.rnn = nn.LSTM(embedding_dim, n_hidden, bidirectional = True)\n",
    "        self.rnnlin = nn.Linear(n_hidden*3, n_hidden)\n",
    "        \n",
    "        self.sigmoid = nn.Sigmoid()\n",
    "        \n",
    "        ## Attention module\n",
    "        self.attn = nn.Linear(n_hidden*2, n_hidden)\n",
    "        \n",
    "    def forward(self, u, v, hidden, seq_lengths):\n",
    "        \n",
    "        U = self.user_emb(u)\n",
    "        V = self.item_emb(v)\n",
    "                \n",
    "        ## Packing, Encoding, Padding\n",
    "        packed = rnn_utils.pack_padded_sequence(V, seq_lengths).to(device)\n",
    "        rnnOut, (hn, cn) = self.rnn(packed, hidden)\n",
    "        padded, seq_lengths = rnn_utils.pad_packed_sequence(rnnOut, padding_value=0, total_length=max_length)\n",
    "        seq_lengths = seq_lengths.to(device).float()\n",
    "        \n",
    "        # Divide each batch_element by sequence_element and sum. (mean by seq_length)\n",
    "        padded = (padded.transpose(1,2) / seq_lengths).transpose(1,2)\n",
    "        mean = padded.sum(dim=0)\n",
    "        \n",
    "        V_rnn = torch.cat([mean, hn[-1]], dim=1)\n",
    "        V_rnn = F.relu(self.rnnlin(V_rnn))\n",
    "                 \n",
    "        x = torch.cat([U, V_rnn], dim=1)\n",
    "\n",
    "        ## Classification\n",
    "        x = self.drop0(x)\n",
    "        x = F.relu(self.lin1(x))\n",
    "        x = self.drop1(x)\n",
    "        \n",
    "        x = self.lin2(x)\n",
    "        x = self.sigmoid(x)\n",
    "        return x, mean, padded\n",
    "    \n",
    "    def init_hidden(self, batch_size):\n",
    "        init = torch.zeros(2, batch_size, n_hidden).to(device)\n",
    "        return (init,init)"
   ]
  },
  {
   "cell_type": "code",
   "execution_count": 14,
   "metadata": {},
   "outputs": [],
   "source": [
    "## Training loop\n",
    "def train(model, train_loader, optimizer, criterion, epoch, print_batch_p):\n",
    "    model.train()\n",
    "    \n",
    "    acc_list = []\n",
    "    loss_list = []\n",
    "    \n",
    "    for batch_idx, data in enumerate(train_loader):\n",
    "        users = data.ID\n",
    "        (items, seq_lengths) = data.Text\n",
    "        ratings = data.Label\n",
    "        batch_size = len(seq_lengths)\n",
    "        \n",
    "        users = users.long().to(device)\n",
    "        items = items.long().to(device)\n",
    "        ratings = ratings.float().to(device)      \n",
    "        \n",
    "        hidden_size = model.init_hidden(batch_size)\n",
    "        optimizer.zero_grad()\n",
    "        output = model(users, items, hidden_size, seq_lengths)[0]\n",
    "        loss = criterion(output, ratings)\n",
    "        loss.backward()\n",
    "        optimizer.step()\n",
    "        \n",
    "        # Print jumping\n",
    "        percent = print_batch_p\n",
    "        proc = int((len(train_loader.dataset)/batch_size)*percent)\n",
    "        proc = proc if proc >= 1 else 1\n",
    "        \n",
    "        # Calculate accuracy\n",
    "        TP,FP,TN,FN = 0,0,0,0\n",
    "        output_flat = [0 if o < 0.5 else 1 for o in output.data]\n",
    "        for y,yhat in zip(ratings.data, output_flat):\n",
    "            y = int(y)\n",
    "            if yhat == 0:\n",
    "                if y != yhat:\n",
    "                    FN += 1\n",
    "                else:\n",
    "                    TN += 1\n",
    "            else:\n",
    "                if y != yhat:\n",
    "                    FP += 1\n",
    "                else:\n",
    "                    TP += 1\n",
    "            \n",
    "        acc_list += [(TP + TN)/(TP+FP+TN+FN)]\n",
    "        loss_list += [loss.item()]\n",
    "        \n",
    "        if (batch_idx % proc == 0 and batch_idx != 0):\n",
    "            loss_mean = sum(loss_list)/len(loss_list)\n",
    "            acc_mean = sum(acc_list)/len(acc_list)\n",
    "            percent = 100 * (batch_idx / (len(train_loader)-1))\n",
    "            print(f'Train epoch {epoch:3d} ({percent:3.0f}%), Mean Accuracy: {acc_mean:2.5f}, Mean Loss: {loss_mean:2.5f}')\n",
    "            \n",
    "def validate(model, val_loader, criterion, epoch):\n",
    "    model.eval()\n",
    "    \n",
    "    val_loss = 0\n",
    "    TP,FP,TN,FN = 0,0,0,0\n",
    "    \n",
    "    with torch.no_grad():\n",
    "        for batch_idx, data in enumerate(val_loader):\n",
    "            users = data.ID\n",
    "            (items, seq_lengths) = data.Text\n",
    "            ratings = data.Label\n",
    "            batch_size = len(seq_lengths)\n",
    "            \n",
    "            users = users.long().to(device)\n",
    "            items = items.long().to(device)\n",
    "            ratings = ratings.float().to(device)\n",
    "            \n",
    "            hidden_size = model.init_hidden(batch_size)\n",
    "            output = model(users, items, hidden_size, seq_lengths)[0]\n",
    "            loss = criterion(output.float(), ratings)\n",
    "            \n",
    "            output_flat = [0 if o < 0.5 else 1 for o in output.data]\n",
    "            for y,yhat in zip(ratings.data, output_flat):\n",
    "                y = int(y)\n",
    "                if yhat == 0:\n",
    "                    if y != yhat:\n",
    "                        FN += 1\n",
    "                    else:\n",
    "                        TN += 1\n",
    "                else:\n",
    "                    if y != yhat:\n",
    "                        FP += 1\n",
    "                    else:\n",
    "                        TP += 1\n",
    "            val_loss += loss.item() # sum up batch loss\n",
    "\n",
    "    acc = (TP + TN)/(TP + TN + FP + FN)\n",
    "    val_loss /= len(val_loader)\n",
    "    print(f'Validation epoch {epoch:>3d} (100%), Accucary: {acc:>2.5f}, Mean Loss: {val_loss:>2.5f} \\n')\n",
    "    return acc, val_loss\n",
    "\n",
    "def trainLoop(epochs, lr=0.001, wd = 1e-6, print_batch_p = 1, early_patience=5):\n",
    "    # save model path\n",
    "    modelpath = '../torch_models/citeulike/best_sgd_loss_small.pth'\n",
    "    \n",
    "    # Define model    \n",
    "    model = CFNN(num_users, num_items).to(device)\n",
    "    criterion = nn.BCELoss()\n",
    "    optimizer = optim.SGD(model.parameters(), lr=lr, weight_decay = wd)\n",
    "    \n",
    "    accs = []\n",
    "    losses = []\n",
    "    best_acc = (-1,-1e16,1e16)\n",
    "    best_loss = (-1,-1e16,1e16)\n",
    "    early = 0\n",
    "    \n",
    "    for epoch in range(1, epochs + 1):\n",
    "        train(model, train_iter, optimizer, criterion, epoch, print_batch_p)\n",
    "        val_acc, val_loss = validate(model, val_iter, criterion, epoch)\n",
    "        accs += [val_acc]\n",
    "        losses += [val_loss]\n",
    "        \n",
    "        early += 1\n",
    "        if val_acc > best_acc[-2]:\n",
    "            early = 0\n",
    "            best_acc = (epoch, val_acc, val_loss)\n",
    "        if val_loss < best_loss[-1]:\n",
    "            early = 0\n",
    "            best_loss = (epoch, val_acc, val_loss)\n",
    "            torch.save(model, modelpath)\n",
    "        if early >= early_patience:\n",
    "            model = torch.load(modelpath)\n",
    "            break\n",
    "        \n",
    "    plt.plot(range(1,epoch+1),accs)\n",
    "    plt.show()\n",
    "    print(f'best validatation accu epoch: {best_acc[0]:>3.0f}, acc: {best_acc[1]:>2.5f}, mean loss: {best_acc[2]:>2.5f} \\n')\n",
    "    plt.plot(range(1,epoch+1),losses)\n",
    "    plt.show()\n",
    "    print(f'best validatation loss epoch: {best_loss[0]:>3.0f}, acc: {best_loss[1]:>2.5f}, mean loss: {best_loss[2]:>2.5f}')\n",
    "    \n",
    "    return model"
   ]
  },
  {
   "cell_type": "code",
   "execution_count": 15,
   "metadata": {
    "scrolled": true
   },
   "outputs": [
    {
     "name": "stdout",
     "output_type": "stream",
     "text": [
      "Train epoch   1 ( 33%), Mean Accuracy: 0.51155, Mean Loss: 0.69932\n",
      "Train epoch   1 ( 67%), Mean Accuracy: 0.51845, Mean Loss: 0.69984\n",
      "Train epoch   1 (100%), Mean Accuracy: 0.53186, Mean Loss: 0.69231\n",
      "Validation epoch   1 (100%), Accucary: 0.79381, Mean Loss: 0.57538 \n",
      "\n",
      "Train epoch   2 ( 33%), Mean Accuracy: 0.57591, Mean Loss: 0.66076\n",
      "Train epoch   2 ( 67%), Mean Accuracy: 0.56436, Mean Loss: 0.65788\n",
      "Train epoch   2 (100%), Mean Accuracy: 0.56812, Mean Loss: 0.66303\n",
      "Validation epoch   2 (100%), Accucary: 0.41237, Mean Loss: 0.65486 \n",
      "\n",
      "Train epoch   3 ( 33%), Mean Accuracy: 0.55941, Mean Loss: 0.64819\n",
      "Train epoch   3 ( 67%), Mean Accuracy: 0.56577, Mean Loss: 0.64783\n",
      "Train epoch   3 (100%), Mean Accuracy: 0.58822, Mean Loss: 0.64659\n",
      "Validation epoch   3 (100%), Accucary: 0.40206, Mean Loss: 0.68296 \n",
      "\n",
      "Train epoch   4 ( 33%), Mean Accuracy: 0.66337, Mean Loss: 0.61510\n",
      "Train epoch   4 ( 67%), Mean Accuracy: 0.66524, Mean Loss: 0.62038\n",
      "Train epoch   4 (100%), Mean Accuracy: 0.63186, Mean Loss: 0.63126\n",
      "Validation epoch   4 (100%), Accucary: 0.58763, Mean Loss: 0.59069 \n",
      "\n",
      "Train epoch   5 ( 33%), Mean Accuracy: 0.58992, Mean Loss: 0.63268\n",
      "Train epoch   5 ( 67%), Mean Accuracy: 0.59720, Mean Loss: 0.62631\n",
      "Train epoch   5 (100%), Mean Accuracy: 0.61602, Mean Loss: 0.62536\n",
      "Validation epoch   5 (100%), Accucary: 0.41237, Mean Loss: 0.66645 \n",
      "\n",
      "Train epoch   6 ( 33%), Mean Accuracy: 0.68333, Mean Loss: 0.61058\n",
      "Train epoch   6 ( 67%), Mean Accuracy: 0.65265, Mean Loss: 0.61890\n",
      "Train epoch   6 (100%), Mean Accuracy: 0.64981, Mean Loss: 0.61833\n",
      "Validation epoch   6 (100%), Accucary: 0.53608, Mean Loss: 0.62347 \n",
      "\n",
      "Train epoch   7 ( 33%), Mean Accuracy: 0.67718, Mean Loss: 0.60202\n",
      "Train epoch   7 ( 67%), Mean Accuracy: 0.66100, Mean Loss: 0.60023\n",
      "Train epoch   7 (100%), Mean Accuracy: 0.64813, Mean Loss: 0.60905\n",
      "Validation epoch   7 (100%), Accucary: 0.53608, Mean Loss: 0.64266 \n",
      "\n",
      "Train epoch   8 ( 33%), Mean Accuracy: 0.67162, Mean Loss: 0.61167\n",
      "Train epoch   8 ( 67%), Mean Accuracy: 0.63952, Mean Loss: 0.61454\n",
      "Train epoch   8 (100%), Mean Accuracy: 0.64759, Mean Loss: 0.61382\n",
      "Validation epoch   8 (100%), Accucary: 0.48454, Mean Loss: 0.66708 \n",
      "\n",
      "Train epoch   9 ( 33%), Mean Accuracy: 0.63531, Mean Loss: 0.59249\n",
      "Train epoch   9 ( 67%), Mean Accuracy: 0.64030, Mean Loss: 0.60471\n",
      "Train epoch   9 (100%), Mean Accuracy: 0.65060, Mean Loss: 0.60547\n",
      "Validation epoch   9 (100%), Accucary: 0.43299, Mean Loss: 0.71611 \n",
      "\n",
      "Train epoch  10 ( 33%), Mean Accuracy: 0.63861, Mean Loss: 0.59294\n",
      "Train epoch  10 ( 67%), Mean Accuracy: 0.63142, Mean Loss: 0.60962\n",
      "Train epoch  10 (100%), Mean Accuracy: 0.64883, Mean Loss: 0.60107\n",
      "Validation epoch  10 (100%), Accucary: 0.38144, Mean Loss: 0.83462 \n",
      "\n",
      "Train epoch  11 ( 33%), Mean Accuracy: 0.65182, Mean Loss: 0.59983\n",
      "Train epoch  11 ( 67%), Mean Accuracy: 0.63816, Mean Loss: 0.61093\n",
      "Train epoch  11 (100%), Mean Accuracy: 0.64859, Mean Loss: 0.60747\n",
      "Validation epoch  11 (100%), Accucary: 0.48454, Mean Loss: 0.66116 \n",
      "\n"
     ]
    },
    {
     "data": {
      "image/png": "[encoded data removed]",
      "text/plain": [
       "<Figure size 432x288 with 1 Axes>"
      ]
     },
     "metadata": {
      "needs_background": "light"
     },
     "output_type": "display_data"
    },
    {
     "name": "stdout",
     "output_type": "stream",
     "text": [
      "best validatation accu epoch:   1, acc: 0.79381, mean loss: 0.57538 \n",
      "\n"
     ]
    },
    {
     "data": {
      "image/png": "[encoded data removed]",
      "text/plain": [
       "<Figure size 432x288 with 1 Axes>"
      ]
     },
     "metadata": {
      "needs_background": "light"
     },
     "output_type": "display_data"
    },
    {
     "name": "stdout",
     "output_type": "stream",
     "text": [
      "best validatation loss epoch:   1, acc: 0.79381, mean loss: 0.57538\n"
     ]
    }
   ],
   "source": [
    "trained_model = trainLoop(epochs=1000, lr=0.1, wd=1e-6, print_batch_p=0.33, early_patience=10)"
   ]
  },
  {
   "cell_type": "code",
   "execution_count": 19,
   "metadata": {},
   "outputs": [
    {
     "name": "stdout",
     "output_type": "stream",
     "text": [
      "tensor([  111,   228,  1527,   757,   509,  1170,     4,     2,   182,   759,\n",
      "            4,  1054,     5,   826,   300,   111,   719,  1054,  1805,  7775,\n",
      "          869,     3,    75,  1711,    24,   126,  1468,     4,     2,   362,\n",
      "           21,  6795,  6793,    18,   716,    93,    10,  2669,   220,   515,\n",
      "            5,   908,     3,   826,   719,  1054,    15,   443,   538,    81,\n",
      "          630,  1054,    11,  1211,   107,   719,  1281,    21, 16288,  1239,\n",
      "         1054,    18,     3,    75,     2,   923,   362,     4,  1206,  1054,\n",
      "         1186,   894,     5,   138,     3,   155, 10912,    11,    88,   923,\n",
      "         1189,   869,    29,   180,     3,  4485,  1257,   118,   673,   630,\n",
      "          344,    58,    15,    48,     5,    13,     8,   630,    45,     4,\n",
      "          300,   111,   719,     3,   826,   719,  5718,  1054,    21, 16289,\n",
      "         1239,  1054,    18,    15,  7775,    10,   279,    17,  2086,  6795,\n",
      "         6793,  1240,  2393,   302,     3,     6,     2,    84,  1228,  5439,\n",
      "            4,  1206,  1054,    12,  2530,    17,     2,   301,  2086,  6795,\n",
      "         6793,     5,   515,   133,   172,    28, 10913,   107,     8,   153,\n",
      "          269,     4,  1472,   119,   111,  1098,     3,    43,  9734,  1472,\n",
      "           10,  1077,   978,    73,    25,     2,  5240,   228,     5,    16,\n",
      "          704,   400,     6,   509,  1789,     4,  3808,   761,    21,  1627,\n",
      "           10,   761,    18,    13,    88,  9123,     6,  1206,  1054,    13,\n",
      "          630,   300,   992,     5,     1,     1,     1], device='cuda:0')\n",
      "['sequence', 'database', 'searches', 'require', 'accurate', 'estimation', 'of', 'the', 'statistical', 'significance', 'of', 'scores', '.', 'optimal', 'local', 'sequence', 'alignment', 'scores', 'follow', 'gumbel', 'distributions', ',', 'but', 'determining', 'an', 'important', 'parameter', 'of', 'the', 'distribution', '(', 'î', '»', ')', 'requires', 'time', '-', 'consuming', 'computational', 'simulation', '.', 'moreover', ',', 'optimal', 'alignment', 'scores', 'are', 'less', 'powerful', 'than', 'probabilistic', 'scores', 'that', 'integrate', 'over', 'alignment', 'uncertainty', '(', 'â€œforwardâ€', '�', 'scores', ')', ',', 'but', 'the', 'expected', 'distribution', 'of', 'forward', 'scores', 'remains', 'unknown', '.', 'here', ',', 'i', 'conjecture', 'that', 'both', 'expected', 'score', 'distributions', 'have', 'simple', ',', 'predictable', 'forms', 'when', 'full', 'probabilistic', 'modeling', 'methods', 'are', 'used', '.', 'for', 'a', 'probabilistic', 'model', 'of', 'local', 'sequence', 'alignment', ',', 'optimal', 'alignment', 'bit', 'scores', '(', 'â€œviterbiâ€', '�', 'scores', ')', 'are', 'gumbel', '-', 'distributed', 'with', 'constant', 'î', '»', '=', 'log', '2', ',', 'and', 'the', 'high', 'scoring', 'tail', 'of', 'forward', 'scores', 'is', 'exponential', 'with', 'the', 'same', 'constant', 'î', '»', '.', 'simulation', 'studies', 'support', 'these', 'conjectures', 'over', 'a', 'wide', 'range', 'of', 'profile', '/', 'sequence', 'comparisons', ',', 'using', '9,318', 'profile', '-', 'hidden', 'markov', 'models', 'from', 'the', 'pfam', 'database', '.', 'this', 'enables', 'efficient', 'and', 'accurate', 'determination', 'of', 'expectation', 'values', '(', 'e', '-', 'values', ')', 'for', 'both', 'viterbi', 'and', 'forward', 'scores', 'for', 'probabilistic', 'local', 'alignments', '.', '', '', '']\n",
      "torch.Size([101, 208]) torch.Size([859, 101, 208])\n",
      "Final test Accucary: 0.52475, Mean Loss: 0.04266 \n",
      "\n"
     ]
    }
   ],
   "source": [
    "trained_model.eval()\n",
    "\n",
    "criterion = nn.BCELoss()\n",
    "test_loss = 0\n",
    "TP,FP,TN,FN = 0,0,0,0\n",
    "\n",
    "with torch.no_grad():\n",
    "    for batch_idx, data in enumerate(train_iter):\n",
    "        users = data.ID\n",
    "        (items, seq_lengths) = data.Text\n",
    "        ratings = data.Label\n",
    "        batch_size = len(seq_lengths)\n",
    "        \n",
    "        users = users.long().to(device)\n",
    "        items = items.long().to(device)\n",
    "        ratings = ratings.float().to(device)\n",
    "\n",
    "        hidden_size = trained_model.init_hidden(batch_size)\n",
    "        output, attention, padded = trained_model(users, items, hidden_size, seq_lengths)\n",
    "        loss = criterion(output.float(), ratings)\n",
    "\n",
    "        output_flat = [0 if o < 0.5 else 1 for o in output.data]\n",
    "        for y,yhat in zip(ratings.data, output_flat):\n",
    "            y = int(y)\n",
    "            if yhat == 0:\n",
    "                if y != yhat:\n",
    "                    FN += 1\n",
    "                else:\n",
    "                    TN += 1\n",
    "            else:\n",
    "                if y != yhat:\n",
    "                    FP += 1\n",
    "                else:\n",
    "                    TP += 1\n",
    "        test_loss += loss.item() # sum up batch loss\n",
    "        \n",
    "        # visualise attention\n",
    "        idx = -1\n",
    "        n = seq_lengths[idx]\n",
    "        print(seq_length[idx])\n",
    "        print(items[:n,idx])\n",
    "        print(TEXT.reverse(items[:n,idx].unsqueeze(0)))\n",
    "        print(attention.shape, padded.shape)\n",
    "        break\n",
    "\n",
    "\n",
    "acc = (TP + TN)/(TP + TN + FP + FN)\n",
    "test_loss /= len(train_iter)\n",
    "# UNCOMMENT ONLY WHEN MODEL IS COMPLETELY FINISHED\n",
    "print(f'Final test Accucary: {acc:>2.5f}, Mean Loss: {test_loss:>2.5f} \\n')"
   ]
  },
  {
   "cell_type": "code",
   "execution_count": null,
   "metadata": {},
   "outputs": [],
   "source": [
    "modelpath = '../torch_models/citeulike/best_sgd_loss.pth'"
   ]
  },
  {
   "cell_type": "code",
   "execution_count": null,
   "metadata": {},
   "outputs": [],
   "source": [
    "trained_model = torch.load(modelpath)"
   ]
  },
  {
   "cell_type": "code",
   "execution_count": null,
   "metadata": {},
   "outputs": [],
   "source": []
  }
 ],
 "metadata": {
  "kernelspec": {
   "display_name": "Python 3",
   "language": "python",
   "name": "python3"
  },
  "language_info": {
   "codemirror_mode": {
    "name": "ipython",
    "version": 3
   },
   "file_extension": ".py",
   "mimetype": "text/x-python",
   "name": "python",
   "nbconvert_exporter": "python",
   "pygments_lexer": "ipython3",
   "version": "3.6.5"
  }
 },
 "nbformat": 4,
 "nbformat_minor": 2
}
