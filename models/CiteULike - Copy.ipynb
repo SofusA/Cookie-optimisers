{
 "cells": [
  {
   "cell_type": "markdown",
   "metadata": {},
   "source": [
    "# Text Collaborative Filtering\n",
    "With your best friends; Cookie Optimizers :D "
   ]
  },
  {
   "cell_type": "markdown",
   "metadata": {},
   "source": [
    "# CiteULike\n",
    "## Imports"
   ]
  },
  {
   "cell_type": "code",
   "execution_count": 1,
   "metadata": {},
   "outputs": [
    {
     "name": "stdout",
     "output_type": "stream",
     "text": [
      "Requirement already satisfied: en_core_web_sm==2.0.0 from https://github.com/explosion/spacy-models/releases/download/en_core_web_sm-2.0.0/en_core_web_sm-2.0.0.tar.gz#egg=en_core_web_sm==2.0.0 in /opt/conda/lib/python3.6/site-packages (2.0.0)\n",
      "\u001b[33mYou are using pip version 10.0.1, however version 18.1 is available.\n",
      "You should consider upgrading via the 'pip install --upgrade pip' command.\u001b[0m\n",
      "\n",
      "\u001b[93m    Linking successful\u001b[0m\n",
      "    /opt/conda/lib/python3.6/site-packages/en_core_web_sm -->\n",
      "    /opt/conda/lib/python3.6/site-packages/spacy/data/en\n",
      "\n",
      "    You can now load the model via spacy.load('en')\n",
      "\n"
     ]
    }
   ],
   "source": [
    "!python -m spacy download en"
   ]
  },
  {
   "cell_type": "code",
   "execution_count": 2,
   "metadata": {},
   "outputs": [],
   "source": [
    "import pandas as pd\n",
    "import numpy as np\n",
    "\n",
    "import spacy\n",
    "from torchtext.data import Field, TabularDataset, BucketIterator\n",
    "from torchtext.vocab import Vocab\n",
    "\n",
    "import torch\n",
    "import torch.nn.functional as F\n",
    "import torch.nn.utils.rnn as rnn_utils\n",
    "import torch.optim as optim\n",
    "from torch.autograd import Variable\n",
    "from torch import nn"
   ]
  },
  {
   "cell_type": "code",
   "execution_count": 3,
   "metadata": {},
   "outputs": [],
   "source": [
    "device = torch.device(\"cuda\" if torch.cuda.is_available() else \"cpu\")"
   ]
  },
  {
   "cell_type": "code",
   "execution_count": 4,
   "metadata": {},
   "outputs": [],
   "source": [
    "%matplotlib inline\n",
    "import matplotlib\n",
    "import matplotlib.pyplot as plt"
   ]
  },
  {
   "cell_type": "code",
   "execution_count": 5,
   "metadata": {},
   "outputs": [],
   "source": [
    "import warnings\n",
    "warnings.filterwarnings('ignore')"
   ]
  },
  {
   "cell_type": "markdown",
   "metadata": {},
   "source": [
    "## Data Loaders"
   ]
  },
  {
   "cell_type": "code",
   "execution_count": 6,
   "metadata": {},
   "outputs": [],
   "source": [
    "def condence(nparr):\n",
    "    uniq = np.unique(nparr)\n",
    "    name2idx = {o:i for i,o in enumerate(uniq)}\n",
    "    return np.array([name2idx[o] for o in nparr])\n",
    "\n",
    "def readData(data, interactions, text_index, shuffle, sizes, data_path, split_sets = False):\n",
    "    # Read files\n",
    "    rawtext = pd.read_csv(data)\n",
    "    interactions = pd.read_csv(interactions)\n",
    "    interactions[\"user.id\"] = condence(interactions[\"user.id\"].values)\n",
    "    \n",
    "    # Shuffle\n",
    "    if shuffle:\n",
    "        iteractions = np.random.shuffle(interactions.values)\n",
    "    \n",
    "    # Replace doc.id with text found in text_index\n",
    "    interactions[\"doc.id\"] = [rawtext.iloc[int(idx),text_index] for idx in interactions[\"doc.id\"]]\n",
    "    \n",
    "    # Split into train,val,test\n",
    "    n = len(interactions)\n",
    "    train_size = int(sizes[0] * n)\n",
    "    val_size = int(sizes[1] * n)\n",
    "    test_size = n - train_size - val_size\n",
    "\n",
    "    train = interactions[:train_size]\n",
    "    val = interactions[train_size:train_size+val_size]\n",
    "    test = interactions[train_size+val_size:]\n",
    "    \n",
    "    # Generate unique non-rated negative samples for trainig\n",
    "    uniq_items = np.unique(rawtext[\"doc.id\"])[:-1]\n",
    "    uniq_users = np.unique(train[\"user.id\"])[:-1]\n",
    "    items = set((x[0],x[1]) for x in train[[\"user.id\",\"doc.id\"]].values)\n",
    "    \n",
    "    n = len(train)\n",
    "    pairs = []\n",
    "    while(len(pairs) < n):\n",
    "        item = np.random.choice(uniq_items, size = 1)[0]\n",
    "        user = np.random.choice(uniq_users, size = 1)[0]\n",
    "        if (user,item) not in items:\n",
    "            pairs += [(user,item,0)]\n",
    "            items.add((user,item))\n",
    "            \n",
    "    # Add negative samples to trainig\n",
    "    interactionsNegatives = np.vstack((train, pairs))\n",
    "    train = pd.DataFrame(data = interactionsNegatives, columns = [\"user.id\",\"doc.id\", \"rating\"])\n",
    "\n",
    "    # Replace negative doc.id with text found in text_index\n",
    "    train[\"doc.id\"].loc[n:] = [rawtext.iloc[int(idx),text_index] for idx in train[\"doc.id\"].loc[n:]]\n",
    "\n",
    "    #shuffle negative samples into training, panda style\n",
    "    if shuffle:\n",
    "        train = train.sample(frac=1) \n",
    "    \n",
    "    # Save into seprate files\n",
    "    train.to_csv(data_path+'train.csv', header = False, index = False)\n",
    "    val.to_csv(data_path+'val.csv', header = False, index = False)\n",
    "    test.to_csv(data_path+'test.csv', header = False, index = False)\n",
    "    \n",
    "    # Clean vars\n",
    "    max_length = max(len(s.split(' ')) for s in rawtext.iloc[:,text_index])\n",
    "    del rawtext, interactions, n, uniq_items, uniq_users, items, pairs\n",
    "    del interactionsNegatives, train, val, test\n",
    "    \n",
    "    # Create Text fields\n",
    "    spacy_en = spacy.load('en')\n",
    "    def tokenizer(text):\n",
    "        return [tok.text for tok in spacy_en.tokenizer(text)]\n",
    "\n",
    "    ID = Field(sequential=False, use_vocab=False)\n",
    "    TEXT = Field(sequential=True, lower=True, include_lengths=True, fix_length=max_length, tokenize=tokenizer)\n",
    "    RATING = Field(sequential=False, use_vocab=False)\n",
    "\n",
    "    train, val, test = TabularDataset.splits(\n",
    "            path=data_path, train='train.csv',validation='val.csv', test='test.csv',\n",
    "            format='csv', fields=[('ID', ID), ('Text', TEXT), ('Rating', RATING)])\n",
    "    \n",
    "    ID.build_vocab(train)\n",
    "    TEXT.build_vocab(train, vectors=\"glove.6B.100d\")\n",
    "    RATING.build_vocab(train)\n",
    "    \n",
    "    return (train, val, test), (ID,TEXT,RATING)"
   ]
  },
  {
   "cell_type": "code",
   "execution_count": 7,
   "metadata": {},
   "outputs": [],
   "source": [
    "def getLoaders(data, batch_size):\n",
    "    loaders = BucketIterator.splits(\n",
    "        data,\n",
    "        batch_sizes=batch_size,\n",
    "        repeat=False,\n",
    "        sort_key=lambda x: len(x.Text),\n",
    "        sort_within_batch = True)\n",
    "    \n",
    "    return loaders"
   ]
  },
  {
   "cell_type": "markdown",
   "metadata": {},
   "source": [
    "## Model"
   ]
  },
  {
   "cell_type": "code",
   "execution_count": 19,
   "metadata": {},
   "outputs": [],
   "source": [
    "class CFNN(nn.Module):\n",
    "    def __init__(self, num_users, num_items, embedding_dim, n_hidden, l1_hidden, p_dropout):\n",
    "        super(CFNN, self).__init__()\n",
    "        self.n_hidden = n_hidden\n",
    "        self.user_emb = nn.Embedding(num_users, embedding_dim)\n",
    "        self.item_emb = nn.Embedding(num_items, embedding_dim)\n",
    "        self.lin1 = nn.Linear(n_hidden+embedding_dim, l1_hidden)\n",
    "        self.lin2 = nn.Linear(l1_hidden, 1)\n",
    "        self.drop0 = nn.Dropout(0.4)\n",
    "        self.drop1 = nn.Dropout(0.4)\n",
    "                \n",
    "        # RNN decoding\n",
    "        self.rnn = nn.LSTM(embedding_dim, n_hidden, bidirectional = True)\n",
    "        self.rnnlin = nn.Linear(n_hidden*2, n_hidden)\n",
    "        \n",
    "        self.sigmoid = nn.Sigmoid()\n",
    "        \n",
    "        ## Attention module\n",
    "        self.attn = nn.Linear(n_hidden, n_hidden)\n",
    "        self.attn_combine = nn.Linear(n_hidden * 2, n_hidden)\n",
    "        \n",
    "    def forward(self, u, v, hidden, seq_lengths):\n",
    "        U = self.user_emb(u)\n",
    "        V = self.item_emb(v)\n",
    "        \n",
    "        #print(v)\n",
    "        \n",
    "        ## Packing, Encoding, Padding\n",
    "        packed = rnn_utils.pack_padded_sequence(V, seq_lengths)\n",
    "        rnnOut, (hn, cn) = self.rnn(packed, hidden)\n",
    "        padded,seq_lengths = rnn_utils.pad_packed_sequence(rnnOut)\n",
    "        \n",
    "        #print(padded.shape, seq_lengths.shape, max_length)\n",
    "        #TODO: attension\n",
    "        #mask = [0]*max_length\n",
    "        \n",
    "        #mask = torch.from_numpy(np.array(mask)).to(device)\n",
    "        #new_padded = padded[0].data + mask\n",
    "        \n",
    "        #padded = F.SoftMax(padded)\n",
    "        \n",
    "        #print(mask)\n",
    "        \n",
    "        mean = padded.mean(dim=0)\n",
    "\n",
    "        #print(padded)\n",
    "        \n",
    "        V_rnn = F.relu(self.rnnlin(mean))\n",
    "         \n",
    "        ## Attention module\n",
    "        #attn = self.attn(hn[0])\n",
    "        \n",
    "        #attn_weights = F.softmax(attn, dim=1)\n",
    "        \n",
    "        #attn_applied = torch.mm(attn_weights, V_rnn.t())\n",
    "        \n",
    "        #print(attn_applied)\n",
    "        \n",
    "        ## Concat users and items\n",
    "        #x = torch.cat([U, attn_output], dim=1)\n",
    "        #V_attn = torch.cat([V_rnn, attn_applied], dim=1)\n",
    "        \n",
    "        x = torch.cat([U, V_rnn], dim=1)\n",
    "        \n",
    "        #print(U.shape)\n",
    "        #print(V.shape)\n",
    "        #print(x.shape)\n",
    "        \n",
    "        #print(x.shape)\n",
    "        #print(embedding_dim)\n",
    "        #print(n_hidden)\n",
    "        \n",
    "        ## Classification\n",
    "        #x = self.drop0(x)\n",
    "        x = F.relu(self.lin1(x))\n",
    "        #x = self.drop1(x)\n",
    "        #batchnorm testet here\n",
    "        \n",
    "        x = self.lin2(x)\n",
    "        x = self.sigmoid(x)\n",
    "        return x\n",
    "    \n",
    "    def init_hidden(self, batch_size):\n",
    "        init = torch.zeros(2, batch_size, self.n_hidden).to(device)\n",
    "        return (init,init)"
   ]
  },
  {
   "cell_type": "markdown",
   "metadata": {},
   "source": [
    "## Training Loop"
   ]
  },
  {
   "cell_type": "code",
   "execution_count": 20,
   "metadata": {},
   "outputs": [],
   "source": [
    "def count_acc(output,ratings,TP,FP,TN,FN):\n",
    "    for yhat,y in zip(output.data, ratings.data):\n",
    "        yhat = 0.0 if yhat < 0.5 else 1.0\n",
    "        if yhat == y:\n",
    "            if yhat == 1:\n",
    "                TP += 1\n",
    "            else:\n",
    "                TN += 1\n",
    "        elif yhat == 1:\n",
    "            FP += 1\n",
    "        else:\n",
    "            FN += 1\n",
    "    return TP,FP,TN,FN\n",
    "\n",
    "def train(model, train_loader, optimizer, criterion):\n",
    "    model.train()\n",
    "    train_loss = 0\n",
    "    TP,FP,TN,FN = 0,0,0,0\n",
    "    for data in train_loader:\n",
    "        batch_size = len(data.ID)\n",
    "        \n",
    "        users = data.ID.long().to(device)\n",
    "        items = data.Text[0].long().to(device)\n",
    "        seq_lengths = data.Text[1]\n",
    "        ratings = data.Rating.float().to(device) \n",
    "        ratings = ratings.unsqueeze(1)\n",
    "        \n",
    "        optimizer.zero_grad()\n",
    "        hidden_size = model.init_hidden(batch_size)\n",
    "        output = model(users, items, hidden_size, seq_lengths)\n",
    "        loss = criterion(output, ratings)\n",
    "        loss.backward()\n",
    "        optimizer.step()\n",
    "        \n",
    "        train_loss += loss.item()\n",
    "        TP,FP,TN,FN = count_acc(output,ratings,TP,FP,TN,FN)\n",
    "    \n",
    "    train_acc = (TP + TN)/(TP + TN + FP + FN)\n",
    "    train_loss /= len(train_loader)\n",
    "    return train_acc, train_loss \n",
    "\n",
    "def validate(model, val_loader, criterion):\n",
    "    model.eval()\n",
    "    val_loss = 0\n",
    "    TP,FP,TN,FN = 0,0,0,0\n",
    "    with torch.no_grad():\n",
    "        for data in val_loader:\n",
    "            batch_size = len(data.ID)\n",
    "\n",
    "            users = data.ID.long().to(device)\n",
    "            items = data.Text[0].long().to(device)\n",
    "            seq_lengths = data.Text[1]\n",
    "            ratings = data.Rating.float().to(device) \n",
    "            ratings = ratings.unsqueeze(1)\n",
    "            \n",
    "            hidden_size = model.init_hidden(batch_size)\n",
    "            output = model(users, items, hidden_size, seq_lengths)\n",
    "            loss = criterion(output, ratings)\n",
    "            \n",
    "            val_loss += loss.item()\n",
    "            TP,FP,TN,FN = count_acc(output,ratings,TP,FP,TN,FN) \n",
    "                        \n",
    "    val_acc = (TP + TN)/(TP + FN + TN + FN)\n",
    "    val_loss /= len(val_loader)\n",
    "    return val_acc, val_loss\n",
    "\n",
    "def train_model(train_loader, val_loader, max_epochs, batchsize, model, criterion, optimizer, modelpath=None):\n",
    "    # check path for early stopping\n",
    "    if modelpath != None:\n",
    "        patience_count = 0\n",
    "        torch.save(model, modelpath)\n",
    "    \n",
    "    # Train model\n",
    "    best_loss = (-1, -1, 1e15, -1, -1)\n",
    "    train_accs = []\n",
    "    train_losses = []\n",
    "    val_accs = []\n",
    "    val_losses = []\n",
    "    \n",
    "    for epoch in range(1, max_epochs + 1):\n",
    "        train_acc, train_loss = train(model, train_loader, optimizer, criterion)\n",
    "        val_acc, val_loss = validate(model, val_loader, criterion)\n",
    "        \n",
    "        train_accs += [train_acc]\n",
    "        train_losses += [train_loss]\n",
    "        val_accs += [val_acc]\n",
    "        val_losses += [val_loss]\n",
    "        print('\\n',f'Epoch {epoch}:')\n",
    "        print(f' Train average loss: {f\"{train_loss:3.5f}\":>9s} | Validation average loss: {val_loss:3.5f}')\n",
    "        print(f' Train average acc: {f\"{train_acc:3.5f}\":>10s} | Validation average acc: {val_acc:>4.5f}')\n",
    "        \n",
    "        # Early stopping\n",
    "        if val_loss < best_loss[2]:\n",
    "            best_loss = (epoch, train_loss, val_loss, train_acc, val_acc)\n",
    "            \n",
    "            if modelpath != None:\n",
    "                patience_count = 0\n",
    "                torch.save(model, modelpath)\n",
    "        if modelpath != None:\n",
    "            if patience_count == 10:\n",
    "                model = torch.load(modelpath)\n",
    "                break\n",
    "            else:\n",
    "                patience_count += 1\n",
    "    \n",
    "    # Plot loss and accuracy\n",
    "    plt.plot(range(1,epoch+1), val_losses, color='b')\n",
    "    plt.plot(range(1,epoch+1), train_losses, color='g')\n",
    "    plt.axvline(x=best_loss[0], color='r')\n",
    "    plt.show()\n",
    "    plt.plot(range(1,epoch+1), val_accs, color='b')\n",
    "    plt.plot(range(1,epoch+1), train_accs, color='g')\n",
    "    plt.axvline(x=best_loss[0], color='r')\n",
    "    plt.show()\n",
    "    print(f'Best validation loss at epoch {best_loss[0]}')\n",
    "    print(f'Train loss: {f\"{best_loss[1]:3.5f}\":>9s} | Validation loss: {best_loss[2]:3.5f}')\n",
    "    print(f'Train acc: {f\"{best_loss[3]:3.5f}\":>10s} | Validation acc: {best_loss[4]:>4.5f}')\n",
    "    \n",
    "    # return loaded model if early stop otherwise, finished model.\n",
    "    return model"
   ]
  },
  {
   "cell_type": "markdown",
   "metadata": {},
   "source": [
    "## Parameters"
   ]
  },
  {
   "cell_type": "code",
   "execution_count": 21,
   "metadata": {},
   "outputs": [],
   "source": [
    "# Data params\n",
    "data = '../datasets/citeulike/raw-data.csv'\n",
    "interactions ='../datasets/citeulike/user-info-small.csv'\n",
    "#interactions = '../datasets/citeulike/user-info.csv'\n",
    "text_index = 1\n",
    "shuffle_data = True\n",
    "sizes = [0.7, 0.2, 0.1]\n",
    "data_path = '../datasets/citeulike/'\n",
    "batch_size = (31,32,33)"
   ]
  },
  {
   "cell_type": "code",
   "execution_count": 22,
   "metadata": {},
   "outputs": [],
   "source": [
    "# Data from params\n",
    "data, fields = readData(data, interactions, text_index, shuffle_data, sizes, data_path, False)\n",
    "(ID,TEXT,RATING) = fields"
   ]
  },
  {
   "cell_type": "code",
   "execution_count": 23,
   "metadata": {},
   "outputs": [],
   "source": [
    "# Model parans\n",
    "num_users = len(ID.vocab.itos)\n",
    "num_items = TEXT.vocab.vectors.size()[0]\n",
    "embedding_dim = TEXT.vocab.vectors.size()[1] #100?\n",
    "RNN_n_hidden = 101\n",
    "l1_hidden = 102\n",
    "p_dropout = 0.3"
   ]
  },
  {
   "cell_type": "code",
   "execution_count": 24,
   "metadata": {},
   "outputs": [],
   "source": [
    "# model from params\n",
    "model = CFNN(num_users, num_items, embedding_dim, RNN_n_hidden, l1_hidden, p_dropout).to(device)"
   ]
  },
  {
   "cell_type": "code",
   "execution_count": 25,
   "metadata": {},
   "outputs": [],
   "source": [
    "# Training params\n",
    "modelpath = '../torch_models/citeulike/best.pth'\n",
    "max_epochs = 100\n",
    "batch_size = (31,32,33) # defined in data params\n",
    "learning_rate = 0.001\n",
    "weight_decay = 1e-6\n",
    "criterion = nn.BCELoss()\n",
    "optimizer = optim.Adam(model.parameters(), lr=learning_rate, weight_decay=weight_decay)"
   ]
  },
  {
   "cell_type": "code",
   "execution_count": 26,
   "metadata": {},
   "outputs": [],
   "source": [
    "(train_loader, val_loader, test_loader) = getLoaders(data, batch_size)"
   ]
  },
  {
   "cell_type": "code",
   "execution_count": 27,
   "metadata": {},
   "outputs": [
    {
     "name": "stdout",
     "output_type": "stream",
     "text": [
      "Text fields:\n",
      " size of vocabulary: 5096\n",
      " vocabulary's embedding dimension: torch.Size([5096, 100])\n",
      " no. times the \"the\" appear in the dataset: 924\n",
      "\n",
      " CFNN(\n",
      "  (user_emb): Embedding(51, 100)\n",
      "  (item_emb): Embedding(5096, 100)\n",
      "  (lin1): Linear(in_features=201, out_features=102, bias=True)\n",
      "  (lin2): Linear(in_features=102, out_features=1, bias=True)\n",
      "  (drop0): Dropout(p=0.4)\n",
      "  (drop1): Dropout(p=0.4)\n",
      "  (rnn): LSTM(100, 101, bidirectional=True)\n",
      "  (rnnlin): Linear(in_features=202, out_features=101, bias=True)\n",
      "  (sigmoid): Sigmoid()\n",
      "  (attn): Linear(in_features=101, out_features=101, bias=True)\n",
      "  (attn_combine): Linear(in_features=202, out_features=101, bias=True)\n",
      ") \n",
      "\n",
      "Amount of batches in training set:   97 | Total samples: 3007\n",
      "Amount of batches in validation set: 14 | Total samples:  448\n",
      "Amount of batches in testing set:     7 | Total samples:  231\n"
     ]
    }
   ],
   "source": [
    "# Print info on text data\n",
    "print('Text fields:')\n",
    "#print('keys of TEXT.vocab:', list(TEXT.vocab.__dict__.keys()))\n",
    "print(' size of vocabulary:', len(TEXT.vocab))\n",
    "print(\" vocabulary's embedding dimension:\", TEXT.vocab.vectors.size())\n",
    "print(' no. times the \"the\" appear in the dataset:', TEXT.vocab.freqs['the'])\n",
    "\n",
    "# Print info on model and loaders\n",
    "ls = [len(l) for l in [train_loader, val_loader, test_loader]]\n",
    "mbls = max([len(str(l)) for l in ls])\n",
    "mls = max([len(str(l*batch_size[i])) for i,l in enumerate(ls)])\n",
    "\n",
    "print(\"\\n\", model, \"\\n\")\n",
    "print(f\"Amount of batches in training set:   {ls[0]:{mbls}d} | Total samples: {ls[0]*batch_size[0]:{mls}d}\")\n",
    "print(f\"Amount of batches in validation set: {ls[1]:{mbls}d} | Total samples: {ls[1]*batch_size[1]:{mls}d}\")\n",
    "print(f\"Amount of batches in testing set:    {ls[2]:{mbls}d} | Total samples: {ls[2]*batch_size[2]:{mls}d}\")"
   ]
  },
  {
   "cell_type": "markdown",
   "metadata": {},
   "source": [
    "## Train Model"
   ]
  },
  {
   "cell_type": "code",
   "execution_count": 28,
   "metadata": {},
   "outputs": [
    {
     "name": "stdout",
     "output_type": "stream",
     "text": [
      "\n",
      " Epoch 1:\n",
      " Train average loss:   0.60452 | Validation average loss: 0.60954\n",
      " Train average acc:    0.65997 | Validation average acc: 0.42809\n",
      "\n",
      " Epoch 2:\n",
      " Train average loss:   0.56463 | Validation average loss: 0.65561\n",
      " Train average acc:    0.69378 | Validation average acc: 0.44013\n",
      "\n",
      " Epoch 3:\n",
      " Train average loss:   0.50711 | Validation average loss: 0.80853\n",
      " Train average acc:    0.74766 | Validation average acc: 0.38862\n",
      "\n",
      " Epoch 4:\n",
      " Train average loss:   0.40026 | Validation average loss: 0.74700\n",
      " Train average acc:    0.81560 | Validation average acc: 0.43529\n",
      "\n",
      " Epoch 5:\n",
      " Train average loss:   0.28221 | Validation average loss: 1.13283\n",
      " Train average acc:    0.87316 | Validation average acc: 0.38188\n",
      "\n",
      " Epoch 6:\n",
      " Train average loss:   0.18403 | Validation average loss: 1.51981\n",
      " Train average acc:    0.92771 | Validation average acc: 0.34913\n",
      "\n",
      " Epoch 7:\n",
      " Train average loss:   0.12943 | Validation average loss: 1.47129\n",
      " Train average acc:    0.95080 | Validation average acc: 0.43049\n",
      "\n",
      " Epoch 8:\n",
      " Train average loss:   0.08750 | Validation average loss: 1.58129\n",
      " Train average acc:    0.96687 | Validation average acc: 0.44257\n",
      "\n",
      " Epoch 9:\n",
      " Train average loss:   0.06430 | Validation average loss: 1.81343\n",
      " Train average acc:    0.97791 | Validation average acc: 0.42097\n",
      "\n",
      " Epoch 10:\n",
      " Train average loss:   0.04944 | Validation average loss: 2.24588\n",
      " Train average acc:    0.98025 | Validation average acc: 0.40000\n",
      "\n",
      " Epoch 11:\n",
      " Train average loss:   0.04348 | Validation average loss: 2.23867\n",
      " Train average acc:    0.98059 | Validation average acc: 0.42333\n"
     ]
    },
    {
     "data": {
      "image/png": "[encoded data removed]",
      "text/plain": [
       "<Figure size 432x288 with 1 Axes>"
      ]
     },
     "metadata": {
      "needs_background": "light"
     },
     "output_type": "display_data"
    },
    {
     "data": {
      "image/png": "[encoded data removed]",
      "text/plain": [
       "<Figure size 432x288 with 1 Axes>"
      ]
     },
     "metadata": {
      "needs_background": "light"
     },
     "output_type": "display_data"
    },
    {
     "name": "stdout",
     "output_type": "stream",
     "text": [
      "Best validation loss at epoch 1\n",
      "Train loss:   0.60452 | Validation loss: 0.60954\n",
      "Train acc:    0.65997 | Validation acc: 0.42809\n"
     ]
    }
   ],
   "source": [
    "model_trained = train_model(train_loader,\n",
    "                            val_loader,\n",
    "                            max_epochs, \n",
    "                            batch_size, \n",
    "                            model, \n",
    "                            criterion, \n",
    "                            optimizer, \n",
    "                            modelpath)"
   ]
  },
  {
   "cell_type": "markdown",
   "metadata": {},
   "source": [
    "## Test Model"
   ]
  },
  {
   "cell_type": "code",
   "execution_count": 29,
   "metadata": {},
   "outputs": [],
   "source": [
    "model_trained.eval()\n",
    "test_loss = 0\n",
    "TP,FP,TN,FN = 0,0,0,0\n",
    "with torch.no_grad():\n",
    "    for data in val_loader:\n",
    "        batch_size = len(data.ID)\n",
    "\n",
    "        users = data.ID.long().to(device)\n",
    "        items = data.Text[0].long().to(device)\n",
    "        seq_lengths = data.Text[1]\n",
    "        ratings = data.Rating.float().to(device) \n",
    "        ratings = ratings.unsqueeze(1)\n",
    "\n",
    "        hidden_size = model.init_hidden(batch_size)\n",
    "        output = model(users, items, hidden_size, seq_lengths)\n",
    "        loss = criterion(output, ratings)\n",
    "\n",
    "        test_loss += loss.item()\n",
    "        TP,FP,TN,FN = count_acc(output,ratings,TP,FP,TN,FN) \n",
    "\n",
    "test_acc = (TP + TN)/(TP + FN + TN + FN)\n",
    "test_loss /= len(test_loader)\n",
    "\n",
    "# UNCOMMENT ONLY WHEN MODEL IS COMPLETELY FINISHED\n",
    "#print(f'Final test average loss: {test_loss} | average acc: {test_acc}')"
   ]
  },
  {
   "cell_type": "code",
   "execution_count": null,
   "metadata": {},
   "outputs": [],
   "source": []
  },
  {
   "cell_type": "code",
   "execution_count": null,
   "metadata": {},
   "outputs": [],
   "source": []
  },
  {
   "cell_type": "code",
   "execution_count": null,
   "metadata": {},
   "outputs": [],
   "source": []
  }
 ],
 "metadata": {
  "kernelspec": {
   "display_name": "Python 3",
   "language": "python",
   "name": "python3"
  },
  "language_info": {
   "codemirror_mode": {
    "name": "ipython",
    "version": 3
   },
   "file_extension": ".py",
   "mimetype": "text/x-python",
   "name": "python",
   "nbconvert_exporter": "python",
   "pygments_lexer": "ipython3",
   "version": "3.6.6"
  }
 },
 "nbformat": 4,
 "nbformat_minor": 2
}
