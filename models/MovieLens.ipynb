{
 "cells": [
  {
   "cell_type": "markdown",
   "metadata": {},
   "source": [
    "# Collaborative Filtering\n",
    "With your best friends; Cookie Optimizers :D "
   ]
  },
  {
   "cell_type": "markdown",
   "metadata": {},
   "source": [
    "# MovieLens\n",
    "## Imports"
   ]
  },
  {
   "cell_type": "code",
   "execution_count": 1,
   "metadata": {},
   "outputs": [],
   "source": [
    "import pandas as pd\n",
    "import numpy as np\n",
    "import torch\n",
    "import torch.nn.functional as F\n",
    "import torch.optim as optim\n",
    "from torch.autograd import Variable\n",
    "from torch import nn\n",
    "from torch.utils.data import Dataset, DataLoader, random_split"
   ]
  },
  {
   "cell_type": "code",
   "execution_count": 2,
   "metadata": {},
   "outputs": [],
   "source": [
    "device = torch.device(\"cuda\" if torch.cuda.is_available() else \"cpu\")"
   ]
  },
  {
   "cell_type": "code",
   "execution_count": 3,
   "metadata": {},
   "outputs": [],
   "source": [
    "%matplotlib inline\n",
    "import matplotlib\n",
    "import matplotlib.pyplot as plt"
   ]
  },
  {
   "cell_type": "code",
   "execution_count": 4,
   "metadata": {},
   "outputs": [],
   "source": [
    "import warnings\n",
    "warnings.filterwarnings('ignore')"
   ]
  },
  {
   "cell_type": "markdown",
   "metadata": {},
   "source": [
    "## Data Loaders"
   ]
  },
  {
   "cell_type": "code",
   "execution_count": 5,
   "metadata": {},
   "outputs": [],
   "source": [
    "def condence(nparr):\n",
    "    uniq = np.unique(nparr)\n",
    "    name2idx = {o:i for i,o in enumerate(uniq)}\n",
    "    return np.array([name2idx[o] for o in nparr])\n",
    "\n",
    "class MovieLensDataset(Dataset):\n",
    "    def __init__(self, filename):\n",
    "        self.rawdata = pd.read_csv(filename)\n",
    "        self.rawdata[\"userId\"] = condence(self.rawdata[\"userId\"].values)\n",
    "        self.rawdata[\"movieId\"] = condence(self.rawdata[\"movieId\"].values)\n",
    "\n",
    "    def __len__(self):\n",
    "        return len(self.rawdata)\n",
    "\n",
    "    def __getitem__(self, idx):\n",
    "        idx = idx.item()\n",
    "        users = self.rawdata.iloc[idx, 0]\n",
    "        items = self.rawdata.iloc[idx, 1]\n",
    "        ratings = self.rawdata.iloc[idx, 2]\n",
    "        \n",
    "        return (users, items, ratings)\n",
    "    \n",
    "    def items (self):\n",
    "        n_users = self.rawdata[\"userId\"].nunique()\n",
    "        n_items = self.rawdata[\"movieId\"].nunique()\n",
    "        \n",
    "        return [n_users, n_items]\n",
    "\n",
    "def getLoaders(dataset, batchsize, shuffle, sizes):\n",
    "    train_size = int(sizes[0] * len(dataset))\n",
    "    val_size = int(sizes[1] * len(dataset))\n",
    "    test_size = len(dataset) - train_size - val_size\n",
    "    train_data, val_data, test_data = random_split(dataset, [train_size, val_size, test_size])\n",
    "    \n",
    "    return [DataLoader(data, batch_size = batchsize, shuffle = shuffle) for data in [train_data, val_data, test_data]]"
   ]
  },
  {
   "cell_type": "markdown",
   "metadata": {},
   "source": [
    "## Model"
   ]
  },
  {
   "cell_type": "code",
   "execution_count": 6,
   "metadata": {},
   "outputs": [],
   "source": [
    "# Model\n",
    "class CFNN(nn.Module):\n",
    "    def __init__(self, num_users, num_items, emb_size, n_hidden_1, n_hidden_2, p_dropout):\n",
    "        super(CFNN, self).__init__()\n",
    "        self.user_emb = nn.Embedding(num_users, emb_size)\n",
    "        self.item_emb = nn.Embedding(num_items, emb_size)\n",
    "        self.lin1 = nn.Linear(emb_size*2, n_hidden_1)\n",
    "        self.lin2 = nn.Linear(n_hidden_1, n_hidden_2)\n",
    "        self.linOut = nn.Linear(n_hidden_2, 1)\n",
    "        self.drop0 = nn.Dropout(p_dropout)\n",
    "        self.drop1 = nn.Dropout(p_dropout)\n",
    "        self.drop2 = nn.Dropout(p_dropout)\n",
    "        \n",
    "    def forward(self, u, v):\n",
    "        U = self.user_emb(u)\n",
    "        V = self.item_emb(v)\n",
    "        x = F.relu(torch.cat([U, V], dim=1))\n",
    "        x = self.drop0(x)\n",
    "        x = F.relu(self.lin1(x))\n",
    "        x = self.drop1(x)\n",
    "        x = F.relu(self.lin2(x))\n",
    "        x = self.drop2(x)\n",
    "        x = self.linOut(x)\n",
    "        return x"
   ]
  },
  {
   "cell_type": "markdown",
   "metadata": {},
   "source": [
    "## Traning Loop"
   ]
  },
  {
   "cell_type": "code",
   "execution_count": 7,
   "metadata": {},
   "outputs": [],
   "source": [
    "def train(model, train_loader, optimizer, criterion):\n",
    "    model.train()\n",
    "    train_loss = 0\n",
    "    for (users, items, ratings) in train_loader:\n",
    "        users = users.long().to(device)\n",
    "        items = items.long().to(device)\n",
    "        ratings = ratings.float().to(device)\n",
    "        ratings = ratings.unsqueeze(1)\n",
    "        \n",
    "        optimizer.zero_grad()\n",
    "        output = model(users, items)\n",
    "        loss = criterion(output, ratings)\n",
    "        loss.backward()\n",
    "        optimizer.step()\n",
    "        \n",
    "        train_loss += loss.item()\n",
    "        \n",
    "    return train_loss / len(train_loader)\n",
    "    \n",
    "\n",
    "def validate(model, val_loader, criterion):\n",
    "    model.eval()\n",
    "    val_loss = 0\n",
    "    with torch.no_grad():\n",
    "        for (users, items, ratings) in val_loader:\n",
    "            users = users.long().to(device)\n",
    "            items = items.long().to(device)\n",
    "            ratings = ratings.float().to(device)\n",
    "            ratings = ratings.unsqueeze(1)\n",
    "            \n",
    "            output = model(users, items)\n",
    "            loss = criterion(output, ratings)\n",
    "\n",
    "            val_loss += loss.item()\n",
    "\n",
    "    return val_loss / len(val_loader)\n",
    "\n",
    "def train_model(train_loader, val_loader, max_epochs, batchsize, model, criterion, optimizer, modelpath=None):\n",
    "    # check path for early stopping\n",
    "    if modelpath != None:\n",
    "        patience_count = 0\n",
    "        torch.save(model, modelpath)\n",
    "    \n",
    "    # Train model\n",
    "    best_loss = (-1, -1, 1e15)\n",
    "    train_losses = []\n",
    "    val_losses = []\n",
    "    \n",
    "    for epoch in range(1, max_epochs + 1):\n",
    "        # train and validate\n",
    "        train_loss = train(model, train_loader, optimizer, criterion)\n",
    "        val_loss = validate(model, val_loader, criterion)\n",
    "        \n",
    "        val_losses += [val_loss]\n",
    "        train_losses += [train_loss]\n",
    "        print(f'Epoch {epoch:3d} | Train average loss: {train_loss:3.5f} | Validation average loss: {val_loss:3.5f}')\n",
    "        \n",
    "        # Early stopping\n",
    "        if val_loss < best_loss[2]:\n",
    "            best_loss = (epoch, train_loss, val_loss)\n",
    "            \n",
    "            if modelpath != None:\n",
    "                patience_count = 0\n",
    "                torch.save(model, modelpath)\n",
    "        if modelpath != None:\n",
    "            if patience_count == 10:\n",
    "                model = torch.load(modelpath)\n",
    "                break\n",
    "            else:\n",
    "                patience_count += 1\n",
    "\n",
    "    # Plot loss\n",
    "    plt.plot(range(1,epoch+1), val_losses, color='b')\n",
    "    plt.plot(range(1,epoch+1), train_losses, color='g')\n",
    "    plt.axvline(x=best_loss[0], color='r')\n",
    "    plt.show()\n",
    "    print(f\"Best validation loss at epoch {best_loss[0]} | Train loss: {best_loss[1]:.5} | Validation loss {best_loss[2]:.5}\")\n",
    "    \n",
    "    # return loaded model if early stop otherwise, finished model.\n",
    "    return model"
   ]
  },
  {
   "cell_type": "markdown",
   "metadata": {},
   "source": [
    "## Parameters"
   ]
  },
  {
   "cell_type": "code",
   "execution_count": 8,
   "metadata": {},
   "outputs": [],
   "source": [
    "# Data params\n",
    "datasetpath = '../datasets/movielens-large/ratings.csv'\n",
    "#datasetpath = '../datasets/movielens-small/ratings.csv'\n",
    "shuffle_data = True\n",
    "size_splits = [0.7, 0.2, 0.1]\n",
    "dataset = MovieLensDataset(datasetpath)"
   ]
  },
  {
   "cell_type": "code",
   "execution_count": 9,
   "metadata": {},
   "outputs": [],
   "source": [
    "# Model params\n",
    "n_users, n_items = dataset.items()\n",
    "emb_size=500\n",
    "n_hidden_1=1000\n",
    "n_hidden_2=1000\n",
    "p_dropout = 0.3\n",
    "model = CFNN(n_users, n_items, emb_size, n_hidden_1, n_hidden_2, p_dropout).to(device)"
   ]
  },
  {
   "cell_type": "code",
   "execution_count": 10,
   "metadata": {},
   "outputs": [],
   "source": [
    "# Training params\n",
    "modelpath = '../torch_models/movielens/best.pth'\n",
    "max_epochs = 100\n",
    "batch_size = 50\n",
    "learning_rate = 0.001\n",
    "weight_decay = 1e-6\n",
    "criterion = nn.MSELoss()\n",
    "optimizer = optim.Adam(model.parameters(), lr=learning_rate, weight_decay=weight_decay)"
   ]
  },
  {
   "cell_type": "code",
   "execution_count": 11,
   "metadata": {},
   "outputs": [
    {
     "name": "stdout",
     "output_type": "stream",
     "text": [
      "CFNN(\n",
      "  (user_emb): Embedding(10386, 500)\n",
      "  (item_emb): Embedding(22085, 500)\n",
      "  (lin1): Linear(in_features=1000, out_features=1000, bias=True)\n",
      "  (lin2): Linear(in_features=1000, out_features=1000, bias=True)\n",
      "  (linOut): Linear(in_features=1000, out_features=1, bias=True)\n",
      "  (drop0): Dropout(p=0.3)\n",
      "  (drop1): Dropout(p=0.3)\n",
      "  (drop2): Dropout(p=0.3)\n",
      ") \n",
      "\n",
      "Amount of batches in training set:   14474 | Total samples: 723700\n",
      "Amount of batches in validation set:  4136 | Total samples: 206800\n",
      "Amount of batches in testing set:     2068 | Total samples: 103400\n"
     ]
    }
   ],
   "source": [
    "# Data loaders\n",
    "train_loader, val_loader, test_loader = getLoaders(dataset, batch_size, shuffle_data, size_splits)\n",
    "\n",
    "# Print info on model and loaders\n",
    "ls = [len(l) for l in [train_loader, val_loader, test_loader]]\n",
    "mbls = max([len(str(l)) for l in ls])\n",
    "mls = max([len(str(l*batch_size)) for l in ls])\n",
    "\n",
    "print(model, \"\\n\")\n",
    "print(f\"Amount of batches in training set:   {ls[0]:{mbls}d} | Total samples: {ls[0]*batch_size:{mls}d}\")\n",
    "print(f\"Amount of batches in validation set: {ls[1]:{mbls}d} | Total samples: {ls[1]*batch_size:{mls}d}\")\n",
    "print(f\"Amount of batches in testing set:    {ls[2]:{mbls}d} | Total samples: {ls[2]*batch_size:{mls}d}\")"
   ]
  },
  {
   "cell_type": "markdown",
   "metadata": {},
   "source": [
    "## Train Model"
   ]
  },
  {
   "cell_type": "code",
   "execution_count": 12,
   "metadata": {},
   "outputs": [
    {
     "name": "stdout",
     "output_type": "stream",
     "text": [
      "Epoch   1 | Train average loss: 0.99805 | Validation average loss: 0.88322\n",
      "Epoch   2 | Train average loss: 0.84583 | Validation average loss: 0.81756\n",
      "Epoch   3 | Train average loss: 0.80705 | Validation average loss: 0.78396\n",
      "Epoch   4 | Train average loss: 0.78281 | Validation average loss: 0.78443\n",
      "Epoch   5 | Train average loss: 0.76766 | Validation average loss: 0.79383\n",
      "Epoch   6 | Train average loss: 0.75648 | Validation average loss: 0.78008\n",
      "Epoch   7 | Train average loss: 0.74767 | Validation average loss: 0.75767\n",
      "Epoch   8 | Train average loss: 0.73970 | Validation average loss: 0.75772\n",
      "Epoch   9 | Train average loss: 0.73297 | Validation average loss: 0.76342\n",
      "Epoch  10 | Train average loss: 0.72662 | Validation average loss: 0.76631\n",
      "Epoch  11 | Train average loss: 0.72093 | Validation average loss: 0.75364\n",
      "Epoch  12 | Train average loss: 0.71682 | Validation average loss: 0.74270\n",
      "Epoch  13 | Train average loss: 0.71301 | Validation average loss: 0.76035\n",
      "Epoch  14 | Train average loss: 0.70928 | Validation average loss: 0.75170\n",
      "Epoch  15 | Train average loss: 0.70545 | Validation average loss: 0.75409\n",
      "Epoch  16 | Train average loss: 0.70216 | Validation average loss: 0.74929\n",
      "Epoch  17 | Train average loss: 0.69929 | Validation average loss: 0.74546\n",
      "Epoch  18 | Train average loss: 0.69662 | Validation average loss: 0.73630\n",
      "Epoch  19 | Train average loss: 0.69263 | Validation average loss: 0.74198\n",
      "Epoch  20 | Train average loss: 0.69036 | Validation average loss: 0.73577\n",
      "Epoch  21 | Train average loss: 0.68786 | Validation average loss: 0.73823\n",
      "Epoch  22 | Train average loss: 0.68486 | Validation average loss: 0.73015\n",
      "Epoch  23 | Train average loss: 0.68102 | Validation average loss: 0.72759\n",
      "Epoch  24 | Train average loss: 0.67830 | Validation average loss: 0.73912\n",
      "Epoch  25 | Train average loss: 0.67407 | Validation average loss: 0.73312\n",
      "Epoch  26 | Train average loss: 0.67162 | Validation average loss: 0.74808\n",
      "Epoch  27 | Train average loss: 0.66880 | Validation average loss: 0.74564\n",
      "Epoch  28 | Train average loss: 0.66572 | Validation average loss: 0.72873\n",
      "Epoch  29 | Train average loss: 0.66280 | Validation average loss: 0.73608\n",
      "Epoch  30 | Train average loss: 0.66111 | Validation average loss: 0.75535\n",
      "Epoch  31 | Train average loss: 0.65821 | Validation average loss: 0.74123\n",
      "Epoch  32 | Train average loss: 0.65511 | Validation average loss: 0.72620\n",
      "Epoch  33 | Train average loss: 0.65286 | Validation average loss: 0.71634\n",
      "Epoch  34 | Train average loss: 0.65024 | Validation average loss: 0.72804\n",
      "Epoch  35 | Train average loss: 0.64809 | Validation average loss: 0.72671\n",
      "Epoch  36 | Train average loss: 0.64657 | Validation average loss: 0.73137\n",
      "Epoch  37 | Train average loss: 0.64228 | Validation average loss: 0.72890\n",
      "Epoch  38 | Train average loss: 0.64039 | Validation average loss: 0.72728\n",
      "Epoch  39 | Train average loss: 0.63816 | Validation average loss: 0.72073\n",
      "Epoch  40 | Train average loss: 0.63552 | Validation average loss: 0.72566\n",
      "Epoch  41 | Train average loss: 0.63340 | Validation average loss: 0.72203\n",
      "Epoch  42 | Train average loss: 0.63150 | Validation average loss: 0.71458\n",
      "Epoch  43 | Train average loss: 0.62999 | Validation average loss: 0.71967\n",
      "Epoch  44 | Train average loss: 0.62642 | Validation average loss: 0.72634\n",
      "Epoch  45 | Train average loss: 0.62563 | Validation average loss: 0.73775\n",
      "Epoch  46 | Train average loss: 0.62391 | Validation average loss: 0.71971\n",
      "Epoch  47 | Train average loss: 0.62096 | Validation average loss: 0.71374\n",
      "Epoch  48 | Train average loss: 0.61956 | Validation average loss: 0.71861\n",
      "Epoch  49 | Train average loss: 0.61790 | Validation average loss: 0.72809\n",
      "Epoch  50 | Train average loss: 0.61426 | Validation average loss: 0.71759\n",
      "Epoch  51 | Train average loss: 0.61290 | Validation average loss: 0.71444\n",
      "Epoch  52 | Train average loss: 0.61093 | Validation average loss: 0.71690\n",
      "Epoch  53 | Train average loss: 0.60866 | Validation average loss: 0.71561\n",
      "Epoch  54 | Train average loss: 0.60714 | Validation average loss: 0.73213\n",
      "Epoch  55 | Train average loss: 0.60495 | Validation average loss: 0.71716\n",
      "Epoch  56 | Train average loss: 0.60393 | Validation average loss: 0.70924\n",
      "Epoch  57 | Train average loss: 0.60166 | Validation average loss: 0.71026\n",
      "Epoch  58 | Train average loss: 0.59992 | Validation average loss: 0.71760\n",
      "Epoch  59 | Train average loss: 0.59769 | Validation average loss: 0.73310\n",
      "Epoch  60 | Train average loss: 0.59520 | Validation average loss: 0.70975\n",
      "Epoch  61 | Train average loss: 0.59471 | Validation average loss: 0.71355\n",
      "Epoch  62 | Train average loss: 0.59278 | Validation average loss: 0.71656\n",
      "Epoch  63 | Train average loss: 0.59189 | Validation average loss: 0.71931\n",
      "Epoch  64 | Train average loss: 0.58853 | Validation average loss: 0.71363\n",
      "Epoch  65 | Train average loss: 0.58873 | Validation average loss: 0.71184\n",
      "Epoch  66 | Train average loss: 0.58589 | Validation average loss: 0.71656\n"
     ]
    },
    {
     "data": {
      "image/png": "[encoded data removed]",
      "text/plain": [
       "<Figure size 432x288 with 1 Axes>"
      ]
     },
     "metadata": {
      "needs_background": "light"
     },
     "output_type": "display_data"
    },
    {
     "name": "stdout",
     "output_type": "stream",
     "text": [
      "Best validation loss at epoch 56 | Train loss: 0.60393 | Validation loss 0.70924\n"
     ]
    }
   ],
   "source": [
    "model_trained = train_model(train_loader,\n",
    "                            val_loader, \n",
    "                            max_epochs, \n",
    "                            batch_size, \n",
    "                            model, \n",
    "                            criterion, \n",
    "                            optimizer, \n",
    "                            modelpath)"
   ]
  },
  {
   "cell_type": "markdown",
   "metadata": {},
   "source": [
    "## Test Model"
   ]
  },
  {
   "cell_type": "code",
   "execution_count": 14,
   "metadata": {},
   "outputs": [
    {
     "name": "stdout",
     "output_type": "stream",
     "text": [
      "Final test average loss: 0.7076702056384179\n"
     ]
    }
   ],
   "source": [
    "model_trained.eval()\n",
    "test_loss = 0\n",
    "with torch.no_grad():\n",
    "    for (users, items, ratings) in test_loader:\n",
    "        users = users.long().to(device)\n",
    "        items = items.long().to(device)\n",
    "        ratings = ratings.float().to(device)\n",
    "        ratings = ratings.unsqueeze(1)\n",
    "        output = model_trained(users, items)\n",
    "\n",
    "        test_loss += criterion(output, ratings).item() # sum up batch loss\n",
    "\n",
    "test_loss /= len(test_loader)\n",
    "# UNCOMMENT ONLY WHEN MODEL IS COMPLETELY FINISHED\n",
    "print(f'Final test average loss: {test_loss}')"
   ]
  },
  {
   "cell_type": "code",
   "execution_count": null,
   "metadata": {},
   "outputs": [],
   "source": []
  }
 ],
 "metadata": {
  "kernelspec": {
   "display_name": "Python 3",
   "language": "python",
   "name": "python3"
  },
  "language_info": {
   "codemirror_mode": {
    "name": "ipython",
    "version": 3
   },
   "file_extension": ".py",
   "mimetype": "text/x-python",
   "name": "python",
   "nbconvert_exporter": "python",
   "pygments_lexer": "ipython3",
   "version": "3.6.6"
  }
 },
 "nbformat": 4,
 "nbformat_minor": 2
}
